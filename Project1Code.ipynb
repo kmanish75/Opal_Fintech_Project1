{
 "cells": [
  {
   "cell_type": "code",
   "execution_count": 1,
   "id": "19fb9898-a9b0-4faf-a767-6e6234d04829",
   "metadata": {},
   "outputs": [],
   "source": [
    "# Imports"
   ]
  },
  {
   "cell_type": "code",
   "execution_count": 2,
   "id": "95e02f06-e3ef-4923-b802-0bbec8c46dc4",
   "metadata": {},
   "outputs": [],
   "source": [
    "# Bring in Options DataFrame"
   ]
  },
  {
   "cell_type": "code",
   "execution_count": 3,
   "id": "7ea94f95-fd6b-49e3-b681-bc4b3c7596dd",
   "metadata": {},
   "outputs": [],
   "source": [
    "# Create 3 new dataframes: \n",
    "#      ‘inTheMoney’ = False & ‘daysToExpiration’ between 15 & 30. (=df1)\n",
    "#.     ‘inTheMoney’ = False & ‘daysToExpiration’ between 31 & 60. (=df2)\n",
    "#      ‘inTheMoney’ = False & ‘daysToExpiration’ between 61 & 90. (=df3)"
   ]
  },
  {
   "cell_type": "code",
   "execution_count": 4,
   "id": "8faf74a8-f96f-4c17-8bca-898af5b2ae67",
   "metadata": {},
   "outputs": [],
   "source": [
    "# Check for underlying price (closing Price) for last 6 days = [ p0, p1,p2,p3,p4, p5)\n",
    "\n",
    "# Calculate the daily changes in price of Underlying P = Change in P = todays price - yesterday’s price =Pn - P(n-1)\n",
    "\n",
    "# Square the daily changes in the price as per step 1\n",
    "\n",
    "# Calculate 5 days average of the squared daily changes in Price as per step 2 for 5 trailing days = S\n",
    "\n",
    "# Calculate the square root of average, S as per step 3 = DVIV"
   ]
  },
  {
   "cell_type": "code",
   "execution_count": 5,
   "id": "2af06d83-ad58-4f5d-9f5f-9f3792ceb26b",
   "metadata": {},
   "outputs": [],
   "source": [
    "# Vt = Theoretical volatility"
   ]
  },
  {
   "cell_type": "code",
   "execution_count": 6,
   "id": "45aada7f-078e-4108-a040-2ee824f4215f",
   "metadata": {},
   "outputs": [],
   "source": [
    "# Ask user data, Time horizon, t = [ ‘LOW’, ‘MEDIUM’,’HIGH’]\n",
    "# if ‘t’ = ‘LOW’, df = df1\n",
    "# elseif ‘t’= ‘MEDIUM’ df = df2\n",
    "# else df = df3"
   ]
  },
  {
   "cell_type": "code",
   "execution_count": 7,
   "id": "2e67149a-a287-43eb-84cc-c067cd96f6ad",
   "metadata": {},
   "outputs": [],
   "source": [
    "# Add a column ‘RiskReturnRatio’ Rt in df"
   ]
  },
  {
   "cell_type": "code",
   "execution_count": 8,
   "id": "8276d663-d88d-43bd-bc0d-f82f04767a86",
   "metadata": {},
   "outputs": [],
   "source": [
    "# For index  I\n",
    "# Ve = Vega\n",
    "# Th = Theta\n",
    "# De = Delta\n",
    "# Ga = Gamma"
   ]
  },
  {
   "cell_type": "code",
   "execution_count": 9,
   "id": "d6ad1fc9-44da-44c6-a491-f5e86a8a7356",
   "metadata": {},
   "outputs": [],
   "source": [
    "# IV = Annualized Implied Volatility"
   ]
  },
  {
   "cell_type": "code",
   "execution_count": 10,
   "id": "0ca740df-6d2e-40a3-9215-85a388ea699a",
   "metadata": {},
   "outputs": [],
   "source": [
    "# HPD = Number of Calendar days in Holding Period = Maturity Date – now()"
   ]
  },
  {
   "cell_type": "code",
   "execution_count": 11,
   "id": "aa19548b-6874-49c4-86b8-796aa074988a",
   "metadata": {},
   "outputs": [],
   "source": [
    "# ECIV = DVIV * ((HPD)* 5/7))^0.5)"
   ]
  },
  {
   "cell_type": "code",
   "execution_count": 12,
   "id": "e5ab7abd-63ae-4664-b270-7e5a2eaac80d",
   "metadata": {},
   "outputs": [],
   "source": [
    "# Vega Effect, VE =  -ABS(Ve) * ECIV"
   ]
  },
  {
   "cell_type": "code",
   "execution_count": 13,
   "id": "6ef583de-f269-4395-a877-4eac4995aa5f",
   "metadata": {},
   "outputs": [],
   "source": [
    "# Theta Effect, TE = Th * HPD"
   ]
  },
  {
   "cell_type": "code",
   "execution_count": 14,
   "id": "4bba684a-9f3d-46ea-89d2-0ed392adb355",
   "metadata": {},
   "outputs": [],
   "source": [
    "# Expected Price Change, EPC = P * (Exp (IV*((HPD/365) ^ 0.5))-1)"
   ]
  },
  {
   "cell_type": "code",
   "execution_count": 15,
   "id": "36dfd490-3b88-48e8-98b5-ad5be3adcfa5",
   "metadata": {},
   "outputs": [],
   "source": [
    "# Delta Effect (DE) = -ABS(Delta)* EPC"
   ]
  },
  {
   "cell_type": "code",
   "execution_count": 16,
   "id": "f6442bff-cde3-4867-ba1c-f70bf0a9ef3c",
   "metadata": {},
   "outputs": [],
   "source": [
    "# Gamma Effect (GE) = Gamma * (EPC^2)/2"
   ]
  },
  {
   "cell_type": "code",
   "execution_count": 17,
   "id": "9ed084e3-584f-4bf8-8890-9e69c18865b6",
   "metadata": {},
   "outputs": [],
   "source": [
    "# VTRRR = (VE/TE)"
   ]
  },
  {
   "cell_type": "code",
   "execution_count": 18,
   "id": "ca52ab42-acef-4715-981f-e100dea1f7ea",
   "metadata": {},
   "outputs": [],
   "source": [
    "# DTRRR = (DE +GE)/TE"
   ]
  },
  {
   "cell_type": "code",
   "execution_count": 19,
   "id": "8f25482b-e886-4528-b6e9-0ab9f12dfe79",
   "metadata": {},
   "outputs": [],
   "source": [
    "# Rt = DTRRR +VTRRR"
   ]
  },
  {
   "cell_type": "code",
   "execution_count": 20,
   "id": "9c693d41-4cd0-42d8-a423-d6d8e308c25d",
   "metadata": {},
   "outputs": [],
   "source": [
    "# Add a column Risk Return Ratio"
   ]
  },
  {
   "cell_type": "code",
   "execution_count": 21,
   "id": "ce21df02-7981-443b-a003-03f700f48788",
   "metadata": {},
   "outputs": [],
   "source": [
    "# For ‘putCall’ = CALL & ` strike price in the range, (‘Pcs + 15’ to Pcs + 35),\n",
    "# Rt = Rt min & Symbol_CL= corresponding symbol. Dcl = Delta, Pcl = Strike Price"
   ]
  },
  {
   "cell_type": "code",
   "execution_count": 22,
   "id": "f4c92336-d3f9-4766-99b2-4be5ef094b7b",
   "metadata": {},
   "outputs": [],
   "source": [
    "# For ‘putCall’ = PUT & ` strike price < (‘p0 – (Pcs-P0)* 1.25)\n",
    "# Delta_diff = [Abs(Delta – Dcs)]\n",
    "# Check for min Delta_diff\n",
    "# Dps = corresponding Delta, Symbol_PS = corresponding symbol Pps = Strike Price"
   ]
  },
  {
   "cell_type": "code",
   "execution_count": 23,
   "id": "cb4d1207-6426-4418-acb1-019dda08154c",
   "metadata": {},
   "outputs": [],
   "source": [
    "# For ‘putCall’ = PUT & ` strike price <  (‘Pps – (Pcl-Pcs)*1.25)\n",
    "# Delta_diff = [Abs(Delta – Dcl)]\n",
    "# Check for min Delta_diff \n",
    "# Dpl = corresponding Delta, Symbol_PL = corresponding symbol"
   ]
  },
  {
   "cell_type": "code",
   "execution_count": 24,
   "id": "f7b524bc-0171-4577-a087-0ba777252388",
   "metadata": {},
   "outputs": [],
   "source": [
    "# Max Income, I = Price of CS + Price of PS – Price of CL -Price of PL\n",
    "# Maximum Loss, Pot_Loss = Max[( Pps- Ppl), (Pcl-Pcs)]-I\n",
    "# Break Even Lower be_lower= Pps- I\n",
    "# Break Even Upper, be_upper= Pcs + I"
   ]
  },
  {
   "cell_type": "code",
   "execution_count": 25,
   "id": "47d9ae24-e155-4244-816d-40368c11f04c",
   "metadata": {},
   "outputs": [],
   "source": [
    "# Recommendations:\n",
    "# Call Short: Symbol_CS\n",
    "# Call Long: Symbol_CL\n",
    "# Put Short: Symbol_PS\n",
    "# Put Long: Symbol_PL\n",
    "# Maximum Possible Profit = I\n",
    "# Maximum Potential Loss = Pot_Loss\n",
    "# Profitable Price Range = ( be_lower, be_upper)"
   ]
  },
  {
   "cell_type": "code",
   "execution_count": null,
   "id": "d516b914-32c6-408b-83b6-629d3347ddde",
   "metadata": {},
   "outputs": [],
   "source": [
    "# Visualizations:"
   ]
  }
 ],
 "metadata": {
  "kernelspec": {
   "display_name": "Python 3 (ipykernel)",
   "language": "python",
   "name": "python3"
  },
  "language_info": {
   "codemirror_mode": {
    "name": "ipython",
    "version": 3
   },
   "file_extension": ".py",
   "mimetype": "text/x-python",
   "name": "python",
   "nbconvert_exporter": "python",
   "pygments_lexer": "ipython3",
   "version": "3.8.8"
  }
 },
 "nbformat": 4,
 "nbformat_minor": 5
}
