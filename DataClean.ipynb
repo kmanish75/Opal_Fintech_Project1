{
 "cells": [
  {
   "cell_type": "code",
   "execution_count": 1,
   "id": "b89c53e6-ee39-4fe7-a081-b645b9cd7f3a",
   "metadata": {},
   "outputs": [
    {
     "name": "stdout",
     "output_type": "stream",
     "text": [
      "testing branch\n"
     ]
    }
   ],
   "source": [
    "print(\"testing branch\")\n"
   ]
  },
  {
   "cell_type": "code",
   "execution_count": null,
   "id": "d200450d-e040-4f4f-a173-55d8b1abe49f",
   "metadata": {},
   "outputs": [],
   "source": []
  },
  {
   "cell_type": "code",
   "execution_count": null,
   "id": "b895ac39-9b51-4a2f-a888-9c8f6a8862a2",
   "metadata": {},
   "outputs": [],
   "source": []
  }
 ],
 "metadata": {
  "kernelspec": {
   "display_name": "Python 3",
   "language": "python",
   "name": "python3"
  },
  "language_info": {
   "codemirror_mode": {
    "name": "ipython",
    "version": 3
   },
   "file_extension": ".py",
   "mimetype": "text/x-python",
   "name": "python",
   "nbconvert_exporter": "python",
   "pygments_lexer": "ipython3",
   "version": "3.8.8"
  }
 },
 "nbformat": 4,
 "nbformat_minor": 5
}
