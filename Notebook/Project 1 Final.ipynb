{
 "cells": [
  {
   "cell_type": "code",
   "execution_count": 57,
   "id": "5679f867",
   "metadata": {},
   "outputs": [],
   "source": [
    "import requests \n",
    "from dotenv import load_dotenv\n",
    "import os\n",
    "import json \n",
    "import pandas as pd\n",
    "from math import e\n",
    "import pandas as pd\n",
    "import numpy as np\n",
    "import yfinance as yf\n",
    "import PySimpleGUI as sg\n",
    "import seaborn as sns\n",
    "import plotly.express as px\n",
    "import plotly.graph_objects as go\n",
    "import opstrat as op\n",
    "import matplotlib.pyplot as plt\n",
    "import datetime as dt\n",
    "import pandas_datareader as pdr\n",
    "%matplotlib inline"
   ]
  },
  {
   "cell_type": "code",
   "execution_count": 3,
   "id": "ba0fe703",
   "metadata": {},
   "outputs": [],
   "source": [
    "load_dotenv()\n",
    "#td_consumer_key=os.getenv('td_consumer_key')\n",
    "td_consumer_key = 'VMAGNPYFOLERVU35ZOSP022T2RCZFBFQ'"
   ]
  },
  {
   "cell_type": "code",
   "execution_count": 4,
   "id": "3decf57b",
   "metadata": {},
   "outputs": [],
   "source": [
    "ticker=['GOOG']\n",
    "contractType=['CALL','PUT','ALL']\n",
    "stdate='2021-09-24'\n",
    "edate='2021-12-24'"
   ]
  },
  {
   "cell_type": "code",
   "execution_count": null,
   "id": "6a8fbc57",
   "metadata": {},
   "outputs": [],
   "source": []
  },
  {
   "cell_type": "code",
   "execution_count": 5,
   "id": "673805d7",
   "metadata": {},
   "outputs": [],
   "source": [
    "url=f'https://api.tdameritrade.com/v1/marketdata/chains?&symbol={ticker[0]}&contractType={contractType[2]}&fromDate={stdate}&toDate={edate}'"
   ]
  },
  {
   "cell_type": "code",
   "execution_count": 6,
   "id": "6a9d36dd",
   "metadata": {},
   "outputs": [],
   "source": [
    "response=requests.get(url, params={'apikey':td_consumer_key})\n",
    "data=response.json()"
   ]
  },
  {
   "cell_type": "code",
   "execution_count": 7,
   "id": "bf1656df",
   "metadata": {},
   "outputs": [
    {
     "data": {
      "text/plain": [
       "{'symbol': 'GOOG',\n",
       " 'status': 'SUCCESS',\n",
       " 'underlying': None,\n",
       " 'strategy': 'SINGLE',\n",
       " 'interval': 0.0,\n",
       " 'isDelayed': True,\n",
       " 'isIndex': False,\n",
       " 'interestRate': 0.1,\n",
       " 'underlyingPrice': 2814.625,\n",
       " 'volatility': 29.0,\n",
       " 'daysToExpiration': 0.0,\n",
       " 'numberOfContracts': 2722}"
      ]
     },
     "execution_count": 7,
     "metadata": {},
     "output_type": "execute_result"
    }
   ],
   "source": [
    "meta={k:v for k, v in data.items() if k in [\"symbol\",\"status\",\"underlying\",\"strategy\",\"interval\", \"isDelayed\", \"isIndex\",\"interestRate\",  \"underlyingPrice\", \"volatility\",\"daysToExpiration\",\"numberOfContracts\"]}\n",
    "meta"
   ]
  },
  {
   "cell_type": "code",
   "execution_count": 8,
   "id": "4331c23e",
   "metadata": {},
   "outputs": [
    {
     "data": {
      "text/html": [
       "<div>\n",
       "<style scoped>\n",
       "    .dataframe tbody tr th:only-of-type {\n",
       "        vertical-align: middle;\n",
       "    }\n",
       "\n",
       "    .dataframe tbody tr th {\n",
       "        vertical-align: top;\n",
       "    }\n",
       "\n",
       "    .dataframe thead th {\n",
       "        text-align: right;\n",
       "    }\n",
       "</style>\n",
       "<table border=\"1\" class=\"dataframe\">\n",
       "  <thead>\n",
       "    <tr style=\"text-align: right;\">\n",
       "      <th></th>\n",
       "      <th></th>\n",
       "      <th>putCall</th>\n",
       "      <th>symbol</th>\n",
       "      <th>description</th>\n",
       "      <th>exchangeName</th>\n",
       "      <th>bid</th>\n",
       "      <th>ask</th>\n",
       "      <th>last</th>\n",
       "      <th>mark</th>\n",
       "      <th>bidSize</th>\n",
       "      <th>askSize</th>\n",
       "      <th>...</th>\n",
       "      <th>deliverableNote</th>\n",
       "      <th>isIndexOption</th>\n",
       "      <th>percentChange</th>\n",
       "      <th>markChange</th>\n",
       "      <th>markPercentChange</th>\n",
       "      <th>intrinsicValue</th>\n",
       "      <th>inTheMoney</th>\n",
       "      <th>pennyPilot</th>\n",
       "      <th>nonStandard</th>\n",
       "      <th>mini</th>\n",
       "    </tr>\n",
       "  </thead>\n",
       "  <tbody>\n",
       "    <tr>\n",
       "      <th rowspan=\"5\" valign=\"top\">2021-09-24:2</th>\n",
       "      <th>1670.0</th>\n",
       "      <td>CALL</td>\n",
       "      <td>GOOG_092421C1670</td>\n",
       "      <td>GOOG Sep 24 2021 1670 Call (Weekly)</td>\n",
       "      <td>OPR</td>\n",
       "      <td>1143.5</td>\n",
       "      <td>1146.0</td>\n",
       "      <td>1122.3</td>\n",
       "      <td>1144.75</td>\n",
       "      <td>1</td>\n",
       "      <td>3</td>\n",
       "      <td>...</td>\n",
       "      <td></td>\n",
       "      <td>None</td>\n",
       "      <td>-0.07</td>\n",
       "      <td>21.69</td>\n",
       "      <td>1.93</td>\n",
       "      <td>1144.28</td>\n",
       "      <td>True</td>\n",
       "      <td>False</td>\n",
       "      <td>False</td>\n",
       "      <td>False</td>\n",
       "    </tr>\n",
       "    <tr>\n",
       "      <th>1680.0</th>\n",
       "      <td>CALL</td>\n",
       "      <td>GOOG_092421C1680</td>\n",
       "      <td>GOOG Sep 24 2021 1680 Call (Weekly)</td>\n",
       "      <td>OPR</td>\n",
       "      <td>1133.5</td>\n",
       "      <td>1136.0</td>\n",
       "      <td>0.0</td>\n",
       "      <td>1134.75</td>\n",
       "      <td>1</td>\n",
       "      <td>3</td>\n",
       "      <td>...</td>\n",
       "      <td></td>\n",
       "      <td>None</td>\n",
       "      <td>0.00</td>\n",
       "      <td>21.69</td>\n",
       "      <td>1.95</td>\n",
       "      <td>1134.28</td>\n",
       "      <td>True</td>\n",
       "      <td>False</td>\n",
       "      <td>False</td>\n",
       "      <td>False</td>\n",
       "    </tr>\n",
       "    <tr>\n",
       "      <th>1690.0</th>\n",
       "      <td>CALL</td>\n",
       "      <td>GOOG_092421C1690</td>\n",
       "      <td>GOOG Sep 24 2021 1690 Call (Weekly)</td>\n",
       "      <td>OPR</td>\n",
       "      <td>1123.5</td>\n",
       "      <td>1126.0</td>\n",
       "      <td>1060.9</td>\n",
       "      <td>1124.75</td>\n",
       "      <td>1</td>\n",
       "      <td>3</td>\n",
       "      <td>...</td>\n",
       "      <td></td>\n",
       "      <td>None</td>\n",
       "      <td>-3.82</td>\n",
       "      <td>21.69</td>\n",
       "      <td>1.97</td>\n",
       "      <td>1124.28</td>\n",
       "      <td>True</td>\n",
       "      <td>False</td>\n",
       "      <td>False</td>\n",
       "      <td>False</td>\n",
       "    </tr>\n",
       "    <tr>\n",
       "      <th>1700.0</th>\n",
       "      <td>CALL</td>\n",
       "      <td>GOOG_092421C1700</td>\n",
       "      <td>GOOG Sep 24 2021 1700 Call (Weekly)</td>\n",
       "      <td>OPR</td>\n",
       "      <td>1113.5</td>\n",
       "      <td>1117.0</td>\n",
       "      <td>1180.8</td>\n",
       "      <td>1115.25</td>\n",
       "      <td>7</td>\n",
       "      <td>10</td>\n",
       "      <td>...</td>\n",
       "      <td></td>\n",
       "      <td>None</td>\n",
       "      <td>8.03</td>\n",
       "      <td>22.19</td>\n",
       "      <td>2.03</td>\n",
       "      <td>1114.28</td>\n",
       "      <td>True</td>\n",
       "      <td>False</td>\n",
       "      <td>False</td>\n",
       "      <td>False</td>\n",
       "    </tr>\n",
       "    <tr>\n",
       "      <th>1710.0</th>\n",
       "      <td>CALL</td>\n",
       "      <td>GOOG_092421C1710</td>\n",
       "      <td>GOOG Sep 24 2021 1710 Call (Weekly)</td>\n",
       "      <td>OPR</td>\n",
       "      <td>1103.5</td>\n",
       "      <td>1106.1</td>\n",
       "      <td>0.0</td>\n",
       "      <td>1104.80</td>\n",
       "      <td>4</td>\n",
       "      <td>2</td>\n",
       "      <td>...</td>\n",
       "      <td></td>\n",
       "      <td>None</td>\n",
       "      <td>0.00</td>\n",
       "      <td>21.74</td>\n",
       "      <td>2.01</td>\n",
       "      <td>1104.28</td>\n",
       "      <td>True</td>\n",
       "      <td>False</td>\n",
       "      <td>False</td>\n",
       "      <td>False</td>\n",
       "    </tr>\n",
       "  </tbody>\n",
       "</table>\n",
       "<p>5 rows × 49 columns</p>\n",
       "</div>"
      ],
      "text/plain": [
       "                    putCall            symbol  \\\n",
       "2021-09-24:2 1670.0    CALL  GOOG_092421C1670   \n",
       "             1680.0    CALL  GOOG_092421C1680   \n",
       "             1690.0    CALL  GOOG_092421C1690   \n",
       "             1700.0    CALL  GOOG_092421C1700   \n",
       "             1710.0    CALL  GOOG_092421C1710   \n",
       "\n",
       "                                             description exchangeName     bid  \\\n",
       "2021-09-24:2 1670.0  GOOG Sep 24 2021 1670 Call (Weekly)          OPR  1143.5   \n",
       "             1680.0  GOOG Sep 24 2021 1680 Call (Weekly)          OPR  1133.5   \n",
       "             1690.0  GOOG Sep 24 2021 1690 Call (Weekly)          OPR  1123.5   \n",
       "             1700.0  GOOG Sep 24 2021 1700 Call (Weekly)          OPR  1113.5   \n",
       "             1710.0  GOOG Sep 24 2021 1710 Call (Weekly)          OPR  1103.5   \n",
       "\n",
       "                        ask    last     mark  bidSize  askSize  ...  \\\n",
       "2021-09-24:2 1670.0  1146.0  1122.3  1144.75        1        3  ...   \n",
       "             1680.0  1136.0     0.0  1134.75        1        3  ...   \n",
       "             1690.0  1126.0  1060.9  1124.75        1        3  ...   \n",
       "             1700.0  1117.0  1180.8  1115.25        7       10  ...   \n",
       "             1710.0  1106.1     0.0  1104.80        4        2  ...   \n",
       "\n",
       "                    deliverableNote  isIndexOption  percentChange  markChange  \\\n",
       "2021-09-24:2 1670.0                           None          -0.07       21.69   \n",
       "             1680.0                           None           0.00       21.69   \n",
       "             1690.0                           None          -3.82       21.69   \n",
       "             1700.0                           None           8.03       22.19   \n",
       "             1710.0                           None           0.00       21.74   \n",
       "\n",
       "                     markPercentChange  intrinsicValue  inTheMoney pennyPilot  \\\n",
       "2021-09-24:2 1670.0               1.93         1144.28        True      False   \n",
       "             1680.0               1.95         1134.28        True      False   \n",
       "             1690.0               1.97         1124.28        True      False   \n",
       "             1700.0               2.03         1114.28        True      False   \n",
       "             1710.0               2.01         1104.28        True      False   \n",
       "\n",
       "                     nonStandard   mini  \n",
       "2021-09-24:2 1670.0        False  False  \n",
       "             1680.0        False  False  \n",
       "             1690.0        False  False  \n",
       "             1700.0        False  False  \n",
       "             1710.0        False  False  \n",
       "\n",
       "[5 rows x 49 columns]"
      ]
     },
     "execution_count": 8,
     "metadata": {},
     "output_type": "execute_result"
    }
   ],
   "source": [
    "call=data['callExpDateMap']\n",
    "dfc=pd.DataFrame.from_dict(call, orient='index').stack().to_frame()\n",
    "dfc=pd.DataFrame(dfc[0].values.tolist(), index=dfc.index)\n",
    "dfc=pd.DataFrame(dfc[0].values.tolist(), index=dfc.index)\n",
    "dfc.head()"
   ]
  },
  {
   "cell_type": "code",
   "execution_count": 9,
   "id": "fe747266",
   "metadata": {},
   "outputs": [
    {
     "data": {
      "text/html": [
       "<div>\n",
       "<style scoped>\n",
       "    .dataframe tbody tr th:only-of-type {\n",
       "        vertical-align: middle;\n",
       "    }\n",
       "\n",
       "    .dataframe tbody tr th {\n",
       "        vertical-align: top;\n",
       "    }\n",
       "\n",
       "    .dataframe thead th {\n",
       "        text-align: right;\n",
       "    }\n",
       "</style>\n",
       "<table border=\"1\" class=\"dataframe\">\n",
       "  <thead>\n",
       "    <tr style=\"text-align: right;\">\n",
       "      <th></th>\n",
       "      <th>level_0</th>\n",
       "      <th>level_1</th>\n",
       "      <th>putCall</th>\n",
       "      <th>symbol</th>\n",
       "      <th>description</th>\n",
       "      <th>exchangeName</th>\n",
       "      <th>bid</th>\n",
       "      <th>ask</th>\n",
       "      <th>last</th>\n",
       "      <th>mark</th>\n",
       "      <th>...</th>\n",
       "      <th>deliverableNote</th>\n",
       "      <th>isIndexOption</th>\n",
       "      <th>percentChange</th>\n",
       "      <th>markChange</th>\n",
       "      <th>markPercentChange</th>\n",
       "      <th>intrinsicValue</th>\n",
       "      <th>inTheMoney</th>\n",
       "      <th>pennyPilot</th>\n",
       "      <th>nonStandard</th>\n",
       "      <th>mini</th>\n",
       "    </tr>\n",
       "  </thead>\n",
       "  <tbody>\n",
       "    <tr>\n",
       "      <th>0</th>\n",
       "      <td>2021-09-24:2</td>\n",
       "      <td>1670.0</td>\n",
       "      <td>CALL</td>\n",
       "      <td>GOOG_092421C1670</td>\n",
       "      <td>GOOG Sep 24 2021 1670 Call (Weekly)</td>\n",
       "      <td>OPR</td>\n",
       "      <td>1143.5</td>\n",
       "      <td>1146.0</td>\n",
       "      <td>1122.3</td>\n",
       "      <td>1144.75</td>\n",
       "      <td>...</td>\n",
       "      <td></td>\n",
       "      <td>None</td>\n",
       "      <td>-0.07</td>\n",
       "      <td>21.69</td>\n",
       "      <td>1.93</td>\n",
       "      <td>1144.28</td>\n",
       "      <td>True</td>\n",
       "      <td>False</td>\n",
       "      <td>False</td>\n",
       "      <td>False</td>\n",
       "    </tr>\n",
       "    <tr>\n",
       "      <th>1</th>\n",
       "      <td>2021-09-24:2</td>\n",
       "      <td>1680.0</td>\n",
       "      <td>CALL</td>\n",
       "      <td>GOOG_092421C1680</td>\n",
       "      <td>GOOG Sep 24 2021 1680 Call (Weekly)</td>\n",
       "      <td>OPR</td>\n",
       "      <td>1133.5</td>\n",
       "      <td>1136.0</td>\n",
       "      <td>0.0</td>\n",
       "      <td>1134.75</td>\n",
       "      <td>...</td>\n",
       "      <td></td>\n",
       "      <td>None</td>\n",
       "      <td>0.00</td>\n",
       "      <td>21.69</td>\n",
       "      <td>1.95</td>\n",
       "      <td>1134.28</td>\n",
       "      <td>True</td>\n",
       "      <td>False</td>\n",
       "      <td>False</td>\n",
       "      <td>False</td>\n",
       "    </tr>\n",
       "    <tr>\n",
       "      <th>2</th>\n",
       "      <td>2021-09-24:2</td>\n",
       "      <td>1690.0</td>\n",
       "      <td>CALL</td>\n",
       "      <td>GOOG_092421C1690</td>\n",
       "      <td>GOOG Sep 24 2021 1690 Call (Weekly)</td>\n",
       "      <td>OPR</td>\n",
       "      <td>1123.5</td>\n",
       "      <td>1126.0</td>\n",
       "      <td>1060.9</td>\n",
       "      <td>1124.75</td>\n",
       "      <td>...</td>\n",
       "      <td></td>\n",
       "      <td>None</td>\n",
       "      <td>-3.82</td>\n",
       "      <td>21.69</td>\n",
       "      <td>1.97</td>\n",
       "      <td>1124.28</td>\n",
       "      <td>True</td>\n",
       "      <td>False</td>\n",
       "      <td>False</td>\n",
       "      <td>False</td>\n",
       "    </tr>\n",
       "  </tbody>\n",
       "</table>\n",
       "<p>3 rows × 51 columns</p>\n",
       "</div>"
      ],
      "text/plain": [
       "        level_0 level_1 putCall            symbol  \\\n",
       "0  2021-09-24:2  1670.0    CALL  GOOG_092421C1670   \n",
       "1  2021-09-24:2  1680.0    CALL  GOOG_092421C1680   \n",
       "2  2021-09-24:2  1690.0    CALL  GOOG_092421C1690   \n",
       "\n",
       "                           description exchangeName     bid     ask    last  \\\n",
       "0  GOOG Sep 24 2021 1670 Call (Weekly)          OPR  1143.5  1146.0  1122.3   \n",
       "1  GOOG Sep 24 2021 1680 Call (Weekly)          OPR  1133.5  1136.0     0.0   \n",
       "2  GOOG Sep 24 2021 1690 Call (Weekly)          OPR  1123.5  1126.0  1060.9   \n",
       "\n",
       "      mark  ...  deliverableNote  isIndexOption percentChange  markChange  \\\n",
       "0  1144.75  ...                            None         -0.07       21.69   \n",
       "1  1134.75  ...                            None          0.00       21.69   \n",
       "2  1124.75  ...                            None         -3.82       21.69   \n",
       "\n",
       "   markPercentChange  intrinsicValue  inTheMoney  pennyPilot  nonStandard  \\\n",
       "0               1.93         1144.28        True       False        False   \n",
       "1               1.95         1134.28        True       False        False   \n",
       "2               1.97         1124.28        True       False        False   \n",
       "\n",
       "    mini  \n",
       "0  False  \n",
       "1  False  \n",
       "2  False  \n",
       "\n",
       "[3 rows x 51 columns]"
      ]
     },
     "execution_count": 9,
     "metadata": {},
     "output_type": "execute_result"
    }
   ],
   "source": [
    "dfc=dfc.reset_index()\n",
    "dfc.head(3)"
   ]
  },
  {
   "cell_type": "code",
   "execution_count": 10,
   "id": "1ef97985",
   "metadata": {},
   "outputs": [
    {
     "data": {
      "text/plain": [
       "{'2021-09-24:2',\n",
       " '2021-10-01:9',\n",
       " '2021-10-08:16',\n",
       " '2021-10-15:23',\n",
       " '2021-10-22:30',\n",
       " '2021-10-29:37',\n",
       " '2021-11-19:58',\n",
       " '2021-12-17:86'}"
      ]
     },
     "execution_count": 10,
     "metadata": {},
     "output_type": "execute_result"
    }
   ],
   "source": [
    "set(dfc.level_0)\n"
   ]
  },
  {
   "cell_type": "code",
   "execution_count": 11,
   "id": "29822c73",
   "metadata": {},
   "outputs": [
    {
     "data": {
      "text/html": [
       "<div>\n",
       "<style scoped>\n",
       "    .dataframe tbody tr th:only-of-type {\n",
       "        vertical-align: middle;\n",
       "    }\n",
       "\n",
       "    .dataframe tbody tr th {\n",
       "        vertical-align: top;\n",
       "    }\n",
       "\n",
       "    .dataframe thead th {\n",
       "        text-align: right;\n",
       "    }\n",
       "</style>\n",
       "<table border=\"1\" class=\"dataframe\">\n",
       "  <thead>\n",
       "    <tr style=\"text-align: right;\">\n",
       "      <th></th>\n",
       "      <th>level_0</th>\n",
       "      <th>level_1</th>\n",
       "      <th>putCall</th>\n",
       "      <th>symbol</th>\n",
       "      <th>description</th>\n",
       "      <th>exchangeName</th>\n",
       "      <th>bid</th>\n",
       "      <th>ask</th>\n",
       "      <th>last</th>\n",
       "      <th>mark</th>\n",
       "      <th>...</th>\n",
       "      <th>deliverableNote</th>\n",
       "      <th>isIndexOption</th>\n",
       "      <th>percentChange</th>\n",
       "      <th>markChange</th>\n",
       "      <th>markPercentChange</th>\n",
       "      <th>intrinsicValue</th>\n",
       "      <th>inTheMoney</th>\n",
       "      <th>pennyPilot</th>\n",
       "      <th>nonStandard</th>\n",
       "      <th>mini</th>\n",
       "    </tr>\n",
       "  </thead>\n",
       "  <tbody>\n",
       "    <tr>\n",
       "      <th>0</th>\n",
       "      <td>2021-09-24:2</td>\n",
       "      <td>1670.0</td>\n",
       "      <td>PUT</td>\n",
       "      <td>GOOG_092421P1670</td>\n",
       "      <td>GOOG Sep 24 2021 1670 Put (Weekly)</td>\n",
       "      <td>OPR</td>\n",
       "      <td>0.0</td>\n",
       "      <td>0.25</td>\n",
       "      <td>0.05</td>\n",
       "      <td>0.13</td>\n",
       "      <td>...</td>\n",
       "      <td></td>\n",
       "      <td>None</td>\n",
       "      <td>49900.00</td>\n",
       "      <td>0.12</td>\n",
       "      <td>124900.0</td>\n",
       "      <td>-1144.28</td>\n",
       "      <td>False</td>\n",
       "      <td>False</td>\n",
       "      <td>False</td>\n",
       "      <td>False</td>\n",
       "    </tr>\n",
       "    <tr>\n",
       "      <th>1</th>\n",
       "      <td>2021-09-24:2</td>\n",
       "      <td>1680.0</td>\n",
       "      <td>PUT</td>\n",
       "      <td>GOOG_092421P1680</td>\n",
       "      <td>GOOG Sep 24 2021 1680 Put (Weekly)</td>\n",
       "      <td>OPR</td>\n",
       "      <td>0.0</td>\n",
       "      <td>0.25</td>\n",
       "      <td>0.05</td>\n",
       "      <td>0.13</td>\n",
       "      <td>...</td>\n",
       "      <td></td>\n",
       "      <td>None</td>\n",
       "      <td>49900.00</td>\n",
       "      <td>0.12</td>\n",
       "      <td>124900.0</td>\n",
       "      <td>-1134.28</td>\n",
       "      <td>False</td>\n",
       "      <td>False</td>\n",
       "      <td>False</td>\n",
       "      <td>False</td>\n",
       "    </tr>\n",
       "    <tr>\n",
       "      <th>2</th>\n",
       "      <td>2021-09-24:2</td>\n",
       "      <td>1690.0</td>\n",
       "      <td>PUT</td>\n",
       "      <td>GOOG_092421P1690</td>\n",
       "      <td>GOOG Sep 24 2021 1690 Put (Weekly)</td>\n",
       "      <td>OPR</td>\n",
       "      <td>0.0</td>\n",
       "      <td>0.25</td>\n",
       "      <td>0.10</td>\n",
       "      <td>0.13</td>\n",
       "      <td>...</td>\n",
       "      <td></td>\n",
       "      <td>None</td>\n",
       "      <td>99900.00</td>\n",
       "      <td>0.12</td>\n",
       "      <td>124900.0</td>\n",
       "      <td>-1124.28</td>\n",
       "      <td>False</td>\n",
       "      <td>False</td>\n",
       "      <td>False</td>\n",
       "      <td>False</td>\n",
       "    </tr>\n",
       "    <tr>\n",
       "      <th>3</th>\n",
       "      <td>2021-09-24:2</td>\n",
       "      <td>1700.0</td>\n",
       "      <td>PUT</td>\n",
       "      <td>GOOG_092421P1700</td>\n",
       "      <td>GOOG Sep 24 2021 1700 Put (Weekly)</td>\n",
       "      <td>OPR</td>\n",
       "      <td>0.0</td>\n",
       "      <td>0.25</td>\n",
       "      <td>0.15</td>\n",
       "      <td>0.13</td>\n",
       "      <td>...</td>\n",
       "      <td></td>\n",
       "      <td>None</td>\n",
       "      <td>149900.01</td>\n",
       "      <td>0.12</td>\n",
       "      <td>124900.0</td>\n",
       "      <td>-1114.28</td>\n",
       "      <td>False</td>\n",
       "      <td>False</td>\n",
       "      <td>False</td>\n",
       "      <td>False</td>\n",
       "    </tr>\n",
       "    <tr>\n",
       "      <th>4</th>\n",
       "      <td>2021-09-24:2</td>\n",
       "      <td>1710.0</td>\n",
       "      <td>PUT</td>\n",
       "      <td>GOOG_092421P1710</td>\n",
       "      <td>GOOG Sep 24 2021 1710 Put (Weekly)</td>\n",
       "      <td>OPR</td>\n",
       "      <td>0.0</td>\n",
       "      <td>0.25</td>\n",
       "      <td>0.10</td>\n",
       "      <td>0.13</td>\n",
       "      <td>...</td>\n",
       "      <td></td>\n",
       "      <td>None</td>\n",
       "      <td>99900.00</td>\n",
       "      <td>0.12</td>\n",
       "      <td>124900.0</td>\n",
       "      <td>-1104.28</td>\n",
       "      <td>False</td>\n",
       "      <td>False</td>\n",
       "      <td>False</td>\n",
       "      <td>False</td>\n",
       "    </tr>\n",
       "  </tbody>\n",
       "</table>\n",
       "<p>5 rows × 51 columns</p>\n",
       "</div>"
      ],
      "text/plain": [
       "        level_0 level_1 putCall            symbol  \\\n",
       "0  2021-09-24:2  1670.0     PUT  GOOG_092421P1670   \n",
       "1  2021-09-24:2  1680.0     PUT  GOOG_092421P1680   \n",
       "2  2021-09-24:2  1690.0     PUT  GOOG_092421P1690   \n",
       "3  2021-09-24:2  1700.0     PUT  GOOG_092421P1700   \n",
       "4  2021-09-24:2  1710.0     PUT  GOOG_092421P1710   \n",
       "\n",
       "                          description exchangeName  bid   ask  last  mark  \\\n",
       "0  GOOG Sep 24 2021 1670 Put (Weekly)          OPR  0.0  0.25  0.05  0.13   \n",
       "1  GOOG Sep 24 2021 1680 Put (Weekly)          OPR  0.0  0.25  0.05  0.13   \n",
       "2  GOOG Sep 24 2021 1690 Put (Weekly)          OPR  0.0  0.25  0.10  0.13   \n",
       "3  GOOG Sep 24 2021 1700 Put (Weekly)          OPR  0.0  0.25  0.15  0.13   \n",
       "4  GOOG Sep 24 2021 1710 Put (Weekly)          OPR  0.0  0.25  0.10  0.13   \n",
       "\n",
       "   ...  deliverableNote  isIndexOption percentChange  markChange  \\\n",
       "0  ...                            None      49900.00        0.12   \n",
       "1  ...                            None      49900.00        0.12   \n",
       "2  ...                            None      99900.00        0.12   \n",
       "3  ...                            None     149900.01        0.12   \n",
       "4  ...                            None      99900.00        0.12   \n",
       "\n",
       "   markPercentChange  intrinsicValue  inTheMoney  pennyPilot  nonStandard  \\\n",
       "0           124900.0        -1144.28       False       False        False   \n",
       "1           124900.0        -1134.28       False       False        False   \n",
       "2           124900.0        -1124.28       False       False        False   \n",
       "3           124900.0        -1114.28       False       False        False   \n",
       "4           124900.0        -1104.28       False       False        False   \n",
       "\n",
       "    mini  \n",
       "0  False  \n",
       "1  False  \n",
       "2  False  \n",
       "3  False  \n",
       "4  False  \n",
       "\n",
       "[5 rows x 51 columns]"
      ]
     },
     "execution_count": 11,
     "metadata": {},
     "output_type": "execute_result"
    }
   ],
   "source": [
    "put=data['putExpDateMap']\n",
    "dfp=pd.DataFrame.from_dict(put, orient='index').stack().to_frame()\n",
    "dfp=pd.DataFrame(dfp[0].values.tolist(), index=dfp.index)\n",
    "dfp=pd.DataFrame(dfp[0].values.tolist(), index=dfp.index)\n",
    "dfp.reset_index(inplace=True)\n",
    "dfp.head()"
   ]
  },
  {
   "cell_type": "code",
   "execution_count": 12,
   "id": "9a428ae7",
   "metadata": {},
   "outputs": [
    {
     "data": {
      "text/plain": [
       "(1361, 51)"
      ]
     },
     "execution_count": 12,
     "metadata": {},
     "output_type": "execute_result"
    }
   ],
   "source": [
    "dfc.shape"
   ]
  },
  {
   "cell_type": "code",
   "execution_count": 13,
   "id": "6c927f18",
   "metadata": {},
   "outputs": [
    {
     "data": {
      "text/plain": [
       "(1361, 51)"
      ]
     },
     "execution_count": 13,
     "metadata": {},
     "output_type": "execute_result"
    }
   ],
   "source": [
    "dfp.shape"
   ]
  },
  {
   "cell_type": "code",
   "execution_count": 14,
   "id": "8c02d25d",
   "metadata": {},
   "outputs": [
    {
     "data": {
      "text/plain": [
       "(2722, 51)"
      ]
     },
     "execution_count": 14,
     "metadata": {},
     "output_type": "execute_result"
    }
   ],
   "source": [
    "df_all=pd.concat([dfc, dfp])\n",
    "df_all.shape"
   ]
  },
  {
   "cell_type": "code",
   "execution_count": 15,
   "id": "49456537",
   "metadata": {},
   "outputs": [],
   "source": [
    "df_all.to_csv(\"GOOG.csv\")"
   ]
  },
  {
   "cell_type": "code",
   "execution_count": 16,
   "id": "f8b94b47",
   "metadata": {},
   "outputs": [],
   "source": [
    "df_all['strike_price']=df_all['level_1']\n",
    "df_all['strike_price']=df_all['strike_price'].astype('float64')"
   ]
  },
  {
   "cell_type": "code",
   "execution_count": 17,
   "id": "e38f1e3e",
   "metadata": {},
   "outputs": [],
   "source": [
    "df_all['volatility']=df_all['volatility'].astype('float64')\n",
    "df_all['delta']=df_all['delta'].astype('float64')\n",
    "df_all['gamma']=df_all['gamma'].astype('float64')\n",
    "df_all['theta']=df_all['theta'].astype('float64')"
   ]
  },
  {
   "cell_type": "code",
   "execution_count": 18,
   "id": "297bcece",
   "metadata": {},
   "outputs": [],
   "source": [
    "# Create 3 new dataframes: \n",
    "#      ‘inTheMoney’ = False & ‘daysToExpiration’ between 15 & 30. (=df1)\n",
    "#.     ‘inTheMoney’ = False & ‘daysToExpiration’ between 31 & 60. (=df2)\n",
    "#      ‘inTheMoney’ = False & ‘daysToExpiration’ between 61 & 90. (=df3)\n",
    "df1=df_all.loc[(df_all.inTheMoney==False) & (df_all.daysToExpiration>=15) & (df_all.daysToExpiration<=30)]\n",
    "df2=df_all.loc[(df_all.inTheMoney==False) & (df_all.daysToExpiration>=31) & (df_all.daysToExpiration<=60)]\n",
    "df3=df_all.loc[(df_all.inTheMoney==False) & (df_all.daysToExpiration>=61) & (df_all.daysToExpiration<=90)]"
   ]
  },
  {
   "cell_type": "code",
   "execution_count": 19,
   "id": "e437cf81",
   "metadata": {},
   "outputs": [
    {
     "name": "stdout",
     "output_type": "stream",
     "text": [
      "[*********************100%***********************]  1 of 1 completed\n"
     ]
    },
    {
     "data": {
      "text/html": [
       "<div>\n",
       "<style scoped>\n",
       "    .dataframe tbody tr th:only-of-type {\n",
       "        vertical-align: middle;\n",
       "    }\n",
       "\n",
       "    .dataframe tbody tr th {\n",
       "        vertical-align: top;\n",
       "    }\n",
       "\n",
       "    .dataframe thead th {\n",
       "        text-align: right;\n",
       "    }\n",
       "</style>\n",
       "<table border=\"1\" class=\"dataframe\">\n",
       "  <thead>\n",
       "    <tr style=\"text-align: right;\">\n",
       "      <th></th>\n",
       "      <th>Open</th>\n",
       "      <th>High</th>\n",
       "      <th>Low</th>\n",
       "      <th>Close</th>\n",
       "      <th>Adj Close</th>\n",
       "      <th>Volume</th>\n",
       "    </tr>\n",
       "    <tr>\n",
       "      <th>Date</th>\n",
       "      <th></th>\n",
       "      <th></th>\n",
       "      <th></th>\n",
       "      <th></th>\n",
       "      <th></th>\n",
       "      <th></th>\n",
       "    </tr>\n",
       "  </thead>\n",
       "  <tbody>\n",
       "    <tr>\n",
       "      <th>2004-08-19</th>\n",
       "      <td>49.813290</td>\n",
       "      <td>51.835709</td>\n",
       "      <td>47.800831</td>\n",
       "      <td>49.982655</td>\n",
       "      <td>49.982655</td>\n",
       "      <td>44871361</td>\n",
       "    </tr>\n",
       "    <tr>\n",
       "      <th>2004-08-20</th>\n",
       "      <td>50.316402</td>\n",
       "      <td>54.336334</td>\n",
       "      <td>50.062355</td>\n",
       "      <td>53.952770</td>\n",
       "      <td>53.952770</td>\n",
       "      <td>22942874</td>\n",
       "    </tr>\n",
       "    <tr>\n",
       "      <th>2004-08-23</th>\n",
       "      <td>55.168217</td>\n",
       "      <td>56.528118</td>\n",
       "      <td>54.321388</td>\n",
       "      <td>54.495735</td>\n",
       "      <td>54.495735</td>\n",
       "      <td>18342897</td>\n",
       "    </tr>\n",
       "    <tr>\n",
       "      <th>2004-08-24</th>\n",
       "      <td>55.412300</td>\n",
       "      <td>55.591629</td>\n",
       "      <td>51.591621</td>\n",
       "      <td>52.239197</td>\n",
       "      <td>52.239197</td>\n",
       "      <td>15319808</td>\n",
       "    </tr>\n",
       "    <tr>\n",
       "      <th>2004-08-25</th>\n",
       "      <td>52.284027</td>\n",
       "      <td>53.798351</td>\n",
       "      <td>51.746044</td>\n",
       "      <td>52.802086</td>\n",
       "      <td>52.802086</td>\n",
       "      <td>9232276</td>\n",
       "    </tr>\n",
       "    <tr>\n",
       "      <th>...</th>\n",
       "      <td>...</td>\n",
       "      <td>...</td>\n",
       "      <td>...</td>\n",
       "      <td>...</td>\n",
       "      <td>...</td>\n",
       "      <td>...</td>\n",
       "    </tr>\n",
       "    <tr>\n",
       "      <th>2021-09-16</th>\n",
       "      <td>2902.419922</td>\n",
       "      <td>2904.000000</td>\n",
       "      <td>2868.326904</td>\n",
       "      <td>2887.469971</td>\n",
       "      <td>2887.469971</td>\n",
       "      <td>1014600</td>\n",
       "    </tr>\n",
       "    <tr>\n",
       "      <th>2021-09-17</th>\n",
       "      <td>2875.969971</td>\n",
       "      <td>2884.989990</td>\n",
       "      <td>2821.229980</td>\n",
       "      <td>2829.270020</td>\n",
       "      <td>2829.270020</td>\n",
       "      <td>2929500</td>\n",
       "    </tr>\n",
       "    <tr>\n",
       "      <th>2021-09-20</th>\n",
       "      <td>2780.003906</td>\n",
       "      <td>2787.250000</td>\n",
       "      <td>2741.060059</td>\n",
       "      <td>2780.340088</td>\n",
       "      <td>2780.340088</td>\n",
       "      <td>1745900</td>\n",
       "    </tr>\n",
       "    <tr>\n",
       "      <th>2021-09-21</th>\n",
       "      <td>2802.340088</td>\n",
       "      <td>2816.231934</td>\n",
       "      <td>2778.110107</td>\n",
       "      <td>2792.929932</td>\n",
       "      <td>2792.929932</td>\n",
       "      <td>906100</td>\n",
       "    </tr>\n",
       "    <tr>\n",
       "      <th>2021-09-22</th>\n",
       "      <td>2801.010010</td>\n",
       "      <td>2827.989990</td>\n",
       "      <td>2789.760010</td>\n",
       "      <td>2814.969971</td>\n",
       "      <td>2814.969971</td>\n",
       "      <td>459304</td>\n",
       "    </tr>\n",
       "  </tbody>\n",
       "</table>\n",
       "<p>4304 rows × 6 columns</p>\n",
       "</div>"
      ],
      "text/plain": [
       "                   Open         High          Low        Close    Adj Close  \\\n",
       "Date                                                                          \n",
       "2004-08-19    49.813290    51.835709    47.800831    49.982655    49.982655   \n",
       "2004-08-20    50.316402    54.336334    50.062355    53.952770    53.952770   \n",
       "2004-08-23    55.168217    56.528118    54.321388    54.495735    54.495735   \n",
       "2004-08-24    55.412300    55.591629    51.591621    52.239197    52.239197   \n",
       "2004-08-25    52.284027    53.798351    51.746044    52.802086    52.802086   \n",
       "...                 ...          ...          ...          ...          ...   \n",
       "2021-09-16  2902.419922  2904.000000  2868.326904  2887.469971  2887.469971   \n",
       "2021-09-17  2875.969971  2884.989990  2821.229980  2829.270020  2829.270020   \n",
       "2021-09-20  2780.003906  2787.250000  2741.060059  2780.340088  2780.340088   \n",
       "2021-09-21  2802.340088  2816.231934  2778.110107  2792.929932  2792.929932   \n",
       "2021-09-22  2801.010010  2827.989990  2789.760010  2814.969971  2814.969971   \n",
       "\n",
       "              Volume  \n",
       "Date                  \n",
       "2004-08-19  44871361  \n",
       "2004-08-20  22942874  \n",
       "2004-08-23  18342897  \n",
       "2004-08-24  15319808  \n",
       "2004-08-25   9232276  \n",
       "...              ...  \n",
       "2021-09-16   1014600  \n",
       "2021-09-17   2929500  \n",
       "2021-09-20   1745900  \n",
       "2021-09-21    906100  \n",
       "2021-09-22    459304  \n",
       "\n",
       "[4304 rows x 6 columns]"
      ]
     },
     "execution_count": 19,
     "metadata": {},
     "output_type": "execute_result"
    }
   ],
   "source": [
    "TICKER=yf.download('GOOG')\n",
    "TICKER"
   ]
  },
  {
   "cell_type": "code",
   "execution_count": 20,
   "id": "c92ce09b",
   "metadata": {},
   "outputs": [
    {
     "data": {
      "text/html": [
       "<div>\n",
       "<style scoped>\n",
       "    .dataframe tbody tr th:only-of-type {\n",
       "        vertical-align: middle;\n",
       "    }\n",
       "\n",
       "    .dataframe tbody tr th {\n",
       "        vertical-align: top;\n",
       "    }\n",
       "\n",
       "    .dataframe thead th {\n",
       "        text-align: right;\n",
       "    }\n",
       "</style>\n",
       "<table border=\"1\" class=\"dataframe\">\n",
       "  <thead>\n",
       "    <tr style=\"text-align: right;\">\n",
       "      <th></th>\n",
       "      <th>Adj Close</th>\n",
       "    </tr>\n",
       "    <tr>\n",
       "      <th>Date</th>\n",
       "      <th></th>\n",
       "    </tr>\n",
       "  </thead>\n",
       "  <tbody>\n",
       "    <tr>\n",
       "      <th>2021-05-17</th>\n",
       "      <td>2321.409912</td>\n",
       "    </tr>\n",
       "    <tr>\n",
       "      <th>2021-05-18</th>\n",
       "      <td>2303.429932</td>\n",
       "    </tr>\n",
       "    <tr>\n",
       "      <th>2021-05-19</th>\n",
       "      <td>2308.709961</td>\n",
       "    </tr>\n",
       "    <tr>\n",
       "      <th>2021-05-20</th>\n",
       "      <td>2356.090088</td>\n",
       "    </tr>\n",
       "    <tr>\n",
       "      <th>2021-05-21</th>\n",
       "      <td>2345.100098</td>\n",
       "    </tr>\n",
       "    <tr>\n",
       "      <th>...</th>\n",
       "      <td>...</td>\n",
       "    </tr>\n",
       "    <tr>\n",
       "      <th>2021-09-16</th>\n",
       "      <td>2887.469971</td>\n",
       "    </tr>\n",
       "    <tr>\n",
       "      <th>2021-09-17</th>\n",
       "      <td>2829.270020</td>\n",
       "    </tr>\n",
       "    <tr>\n",
       "      <th>2021-09-20</th>\n",
       "      <td>2780.340088</td>\n",
       "    </tr>\n",
       "    <tr>\n",
       "      <th>2021-09-21</th>\n",
       "      <td>2792.929932</td>\n",
       "    </tr>\n",
       "    <tr>\n",
       "      <th>2021-09-22</th>\n",
       "      <td>2814.969971</td>\n",
       "    </tr>\n",
       "  </tbody>\n",
       "</table>\n",
       "<p>90 rows × 1 columns</p>\n",
       "</div>"
      ],
      "text/plain": [
       "              Adj Close\n",
       "Date                   \n",
       "2021-05-17  2321.409912\n",
       "2021-05-18  2303.429932\n",
       "2021-05-19  2308.709961\n",
       "2021-05-20  2356.090088\n",
       "2021-05-21  2345.100098\n",
       "...                 ...\n",
       "2021-09-16  2887.469971\n",
       "2021-09-17  2829.270020\n",
       "2021-09-20  2780.340088\n",
       "2021-09-21  2792.929932\n",
       "2021-09-22  2814.969971\n",
       "\n",
       "[90 rows x 1 columns]"
      ]
     },
     "execution_count": 20,
     "metadata": {},
     "output_type": "execute_result"
    }
   ],
   "source": [
    "df_ticker1=TICKER.iloc[-90:]\n",
    "df_ticker1=df_ticker1[['Adj Close']]\n",
    "df_ticker1"
   ]
  },
  {
   "cell_type": "code",
   "execution_count": 21,
   "id": "6ea3a3e9",
   "metadata": {},
   "outputs": [],
   "source": [
    "df_ticker1.to_csv(\"GOOG_adjPrice.csv\")"
   ]
  },
  {
   "cell_type": "code",
   "execution_count": 22,
   "id": "048c5151",
   "metadata": {},
   "outputs": [
    {
     "data": {
      "text/html": [
       "<div>\n",
       "<style scoped>\n",
       "    .dataframe tbody tr th:only-of-type {\n",
       "        vertical-align: middle;\n",
       "    }\n",
       "\n",
       "    .dataframe tbody tr th {\n",
       "        vertical-align: top;\n",
       "    }\n",
       "\n",
       "    .dataframe thead th {\n",
       "        text-align: right;\n",
       "    }\n",
       "</style>\n",
       "<table border=\"1\" class=\"dataframe\">\n",
       "  <thead>\n",
       "    <tr style=\"text-align: right;\">\n",
       "      <th></th>\n",
       "      <th>Adj Close</th>\n",
       "    </tr>\n",
       "    <tr>\n",
       "      <th>Date</th>\n",
       "      <th></th>\n",
       "    </tr>\n",
       "  </thead>\n",
       "  <tbody>\n",
       "    <tr>\n",
       "      <th>2021-09-15</th>\n",
       "      <td>2904.120117</td>\n",
       "    </tr>\n",
       "    <tr>\n",
       "      <th>2021-09-16</th>\n",
       "      <td>2887.469971</td>\n",
       "    </tr>\n",
       "    <tr>\n",
       "      <th>2021-09-17</th>\n",
       "      <td>2829.270020</td>\n",
       "    </tr>\n",
       "    <tr>\n",
       "      <th>2021-09-20</th>\n",
       "      <td>2780.340088</td>\n",
       "    </tr>\n",
       "    <tr>\n",
       "      <th>2021-09-21</th>\n",
       "      <td>2792.929932</td>\n",
       "    </tr>\n",
       "    <tr>\n",
       "      <th>2021-09-22</th>\n",
       "      <td>2814.969971</td>\n",
       "    </tr>\n",
       "  </tbody>\n",
       "</table>\n",
       "</div>"
      ],
      "text/plain": [
       "              Adj Close\n",
       "Date                   \n",
       "2021-09-15  2904.120117\n",
       "2021-09-16  2887.469971\n",
       "2021-09-17  2829.270020\n",
       "2021-09-20  2780.340088\n",
       "2021-09-21  2792.929932\n",
       "2021-09-22  2814.969971"
      ]
     },
     "execution_count": 22,
     "metadata": {},
     "output_type": "execute_result"
    }
   ],
   "source": [
    "# Check for underlying price (closing Price) for last 6 days = [ p0, p1,p2,p3,p4, p5)\n",
    "df_ticker=TICKER.iloc[-6:]\n",
    "df_ticker=df_ticker[['Adj Close']]\n",
    "df_ticker"
   ]
  },
  {
   "cell_type": "code",
   "execution_count": 23,
   "id": "5713e535",
   "metadata": {},
   "outputs": [],
   "source": [
    "# Calculate the daily changes in price of Underlying P = Change in P = todays price - yesterday’s price =Pn - P(n-1)\n",
    "df_ticker2=df_ticker.diff()\n",
    "df_ticker2.dropna(inplace=True)"
   ]
  },
  {
   "cell_type": "code",
   "execution_count": 24,
   "id": "d8e492b8",
   "metadata": {},
   "outputs": [
    {
     "data": {
      "text/html": [
       "<div>\n",
       "<style scoped>\n",
       "    .dataframe tbody tr th:only-of-type {\n",
       "        vertical-align: middle;\n",
       "    }\n",
       "\n",
       "    .dataframe tbody tr th {\n",
       "        vertical-align: top;\n",
       "    }\n",
       "\n",
       "    .dataframe thead th {\n",
       "        text-align: right;\n",
       "    }\n",
       "</style>\n",
       "<table border=\"1\" class=\"dataframe\">\n",
       "  <thead>\n",
       "    <tr style=\"text-align: right;\">\n",
       "      <th></th>\n",
       "      <th>Adj Close</th>\n",
       "    </tr>\n",
       "    <tr>\n",
       "      <th>Date</th>\n",
       "      <th></th>\n",
       "    </tr>\n",
       "  </thead>\n",
       "  <tbody>\n",
       "    <tr>\n",
       "      <th>2021-09-16</th>\n",
       "      <td>-16.650146</td>\n",
       "    </tr>\n",
       "    <tr>\n",
       "      <th>2021-09-17</th>\n",
       "      <td>-58.199951</td>\n",
       "    </tr>\n",
       "    <tr>\n",
       "      <th>2021-09-20</th>\n",
       "      <td>-48.929932</td>\n",
       "    </tr>\n",
       "    <tr>\n",
       "      <th>2021-09-21</th>\n",
       "      <td>12.589844</td>\n",
       "    </tr>\n",
       "    <tr>\n",
       "      <th>2021-09-22</th>\n",
       "      <td>22.040039</td>\n",
       "    </tr>\n",
       "  </tbody>\n",
       "</table>\n",
       "</div>"
      ],
      "text/plain": [
       "            Adj Close\n",
       "Date                 \n",
       "2021-09-16 -16.650146\n",
       "2021-09-17 -58.199951\n",
       "2021-09-20 -48.929932\n",
       "2021-09-21  12.589844\n",
       "2021-09-22  22.040039"
      ]
     },
     "execution_count": 24,
     "metadata": {},
     "output_type": "execute_result"
    }
   ],
   "source": [
    "df_ticker2"
   ]
  },
  {
   "cell_type": "code",
   "execution_count": 25,
   "id": "74a4534f",
   "metadata": {},
   "outputs": [],
   "source": [
    "#import numpy as np\n",
    "# Square the daily changes in the price as per step 1\n",
    "# Calculate 5 days average of the squared daily changes in Price as per step 2 for 5 trailing days = S\n",
    "df_ticker2['new']=df_ticker2['Adj Close']**2/len(df_ticker2)\n",
    "df_ticker2\n",
    "\n",
    "\n",
    "# Calculate the square root of average, S as per step 3 = DVIV\n",
    "DVIV=np.sqrt(df_ticker2['new'].sum())"
   ]
  },
  {
   "cell_type": "code",
   "execution_count": 26,
   "id": "d5a9bc16",
   "metadata": {},
   "outputs": [],
   "source": [
    "# Vt = std deviation for option time window (90 Days)\n",
    "vt=175"
   ]
  },
  {
   "cell_type": "code",
   "execution_count": 27,
   "id": "500cb4e6",
   "metadata": {},
   "outputs": [
    {
     "name": "stdout",
     "output_type": "stream",
     "text": [
      "Requirement already satisfied: pysimplegui in /Users/brandonwhite/opt/anaconda3/lib/python3.8/site-packages (4.47.0)\n"
     ]
    }
   ],
   "source": [
    "!pip install pysimplegui"
   ]
  },
  {
   "cell_type": "code",
   "execution_count": 28,
   "id": "cb05ae13",
   "metadata": {},
   "outputs": [],
   "source": [
    "# import PySimpleGUI as sg"
   ]
  },
  {
   "cell_type": "code",
   "execution_count": 29,
   "id": "23dc2095",
   "metadata": {},
   "outputs": [],
   "source": [
    "# userInput=pd.DataFrame()"
   ]
  },
  {
   "cell_type": "code",
   "execution_count": 30,
   "id": "2658a2f3",
   "metadata": {},
   "outputs": [],
   "source": [
    "### layout = [\n",
    "###"
   ]
  },
  {
   "cell_type": "code",
   "execution_count": 31,
   "id": "1ff97140",
   "metadata": {},
   "outputs": [],
   "source": [
    "#userInput\n",
    "#userInput ='Long Term'"
   ]
  },
  {
   "cell_type": "code",
   "execution_count": 32,
   "id": "b4baf217",
   "metadata": {},
   "outputs": [],
   "source": [
    "#if user_input =='Long Term':\n",
    "#    df_sub=df3\n",
    "#elif user_input =='Mid Term':\n",
    "#    df_sub=df2\n",
    "#elif user_input =='Short-Term':\n",
    "#    df_sub=df1\n",
    "#else:\n",
    "#    df_sub=df_all"
   ]
  },
  {
   "cell_type": "code",
   "execution_count": 33,
   "id": "b2ed0e19",
   "metadata": {},
   "outputs": [],
   "source": [
    "df_sub=df_all"
   ]
  },
  {
   "cell_type": "code",
   "execution_count": 34,
   "id": "16a6dd13",
   "metadata": {},
   "outputs": [],
   "source": [
    "HPD= 3\n",
    "ECIV = DVIV * np.sqrt((HPD)* 5/7)\n",
    "# Vega Effect, VE =  -ABS(Ve) * ECIV\n",
    "df_sub['vega_effect']=df_sub['vega'].abs()*(-1)*ECIV\n",
    "# Theta Effect, TE = Th * HPD\n",
    "df_sub['Theta Effect']= df_sub['theta'] * HPD\n",
    "most_recent_price=df_ticker.iloc[-1]\n",
    "IV=df_sub['volatility']\n",
    "# Expected Price Change, EPC = P * (Exp (IV*((HPD/365) ^ 0.5))-1)\n",
    "#EPC = P * (e**(IV*((HPD/365)**0.5)) - 1)\n",
    "df_sub['Expected_price_change']= most_recent_price.values[0]*(e**(IV.values*(HPD/365)**0.5)-1)\n",
    "# Delta Effect (DE) = -ABS(Delta)* EPC\n",
    "df_sub['Delta_Effect']=abs(-df_sub['delta'])*(-1)*df_sub['Expected_price_change']\n",
    "# Gamma Effect (GE) = Gamma * (EPC^2)/2\n",
    "df_sub['gamma_effect']=df_sub['gamma']*(df_sub['Expected_price_change']**2)/2\n",
    "# VTRRR = (VE/TE)\n",
    "VTRRR=df_sub['vega_effect']/df_sub['Theta Effect']\n",
    "# DTRRR = (DE +GE)/TE\n",
    "DTRRR=(df_sub['Delta_Effect']+df_sub['gamma_effect'])/df_sub['Theta Effect']\n",
    "# Rt = DTRRR +VTRRR  risk return ratio\n",
    "# Add a column Risk Return Ratio\n",
    "df_sub['Risk_Return']=DTRRR +VTRRR"
   ]
  },
  {
   "cell_type": "code",
   "execution_count": 35,
   "id": "c855a3d7",
   "metadata": {},
   "outputs": [],
   "source": [
    "#For ‘putCall’ = CALL & ` strike price in the range, (‘p0 + 0.75 * Vt’  to p0 + 1.25 *Vt),\n",
    "#Rt = Rt min & Symbol_CS = corresponding symbol. Dcs = Delta, Pcs = Strike Price\n",
    "\n",
    "\n",
    "call_short=df_sub.loc[(df_sub.putCall=='CALL')& \n",
    "           (df_sub.strike_price.values >=most_recent_price[0]+1*vt)& \n",
    "           (df_sub.strike_price.values <=most_recent_price[0]+1.5*vt)&\n",
    "           (df_sub.daysToExpiration >= 15) &\n",
    "                     (df_sub.daysToExpiration <= 75)]\n",
    "call_short=call_short.loc[call_short['Risk_Return']==call_short['Risk_Return'].min()][['symbol','delta','strike_price','Risk_Return','ask','bid', 'daysToExpiration']]\n",
    "\n",
    "\n",
    "#For ‘putCall’ = CALL & ` strike price in the range, (‘Pcs + 15’ to 'Pcs + 50'),\n",
    "#Rt = Rt min & Symbol_CL= corresponding symbol. Dcl = Delta, Pcl = Strike Price\n",
    "\n",
    "pcs=call_short['strike_price']\n",
    "\n",
    "call_long=df_sub.loc[(df_sub.putCall=='CALL')& \n",
    "           (df_sub.strike_price.values >=pcs.values[0]+100)& \n",
    "           (df_sub.strike_price.values <=pcs.values[0]+250)&\n",
    "           (df_sub.daysToExpiration == call_short.daysToExpiration.values[0])\n",
    "                    ]\n",
    "call_long= call_long.loc[call_long['Risk_Return']==call_long['Risk_Return'].min()][['symbol','delta','strike_price','Risk_Return','ask','bid','daysToExpiration']]"
   ]
  },
  {
   "cell_type": "code",
   "execution_count": 36,
   "id": "43519d85",
   "metadata": {},
   "outputs": [
    {
     "data": {
      "text/html": [
       "<div>\n",
       "<style scoped>\n",
       "    .dataframe tbody tr th:only-of-type {\n",
       "        vertical-align: middle;\n",
       "    }\n",
       "\n",
       "    .dataframe tbody tr th {\n",
       "        vertical-align: top;\n",
       "    }\n",
       "\n",
       "    .dataframe thead th {\n",
       "        text-align: right;\n",
       "    }\n",
       "</style>\n",
       "<table border=\"1\" class=\"dataframe\">\n",
       "  <thead>\n",
       "    <tr style=\"text-align: right;\">\n",
       "      <th></th>\n",
       "      <th>symbol</th>\n",
       "      <th>delta</th>\n",
       "      <th>strike_price</th>\n",
       "      <th>Risk_Return</th>\n",
       "      <th>ask</th>\n",
       "      <th>bid</th>\n",
       "      <th>daysToExpiration</th>\n",
       "    </tr>\n",
       "  </thead>\n",
       "  <tbody>\n",
       "    <tr>\n",
       "      <th>1351</th>\n",
       "      <td>GOOG_100821C3150</td>\n",
       "      <td>0.015</td>\n",
       "      <td>3150.0</td>\n",
       "      <td>682.23</td>\n",
       "      <td>1.0</td>\n",
       "      <td>0.55</td>\n",
       "      <td>16</td>\n",
       "    </tr>\n",
       "  </tbody>\n",
       "</table>\n",
       "</div>"
      ],
      "text/plain": [
       "                symbol  delta  strike_price  Risk_Return  ask   bid  \\\n",
       "1351  GOOG_100821C3150  0.015        3150.0       682.23  1.0  0.55   \n",
       "\n",
       "      daysToExpiration  \n",
       "1351                16  "
      ]
     },
     "execution_count": 36,
     "metadata": {},
     "output_type": "execute_result"
    }
   ],
   "source": [
    "call_long"
   ]
  },
  {
   "cell_type": "code",
   "execution_count": 37,
   "id": "b1286b47",
   "metadata": {},
   "outputs": [
    {
     "data": {
      "text/html": [
       "<div>\n",
       "<style scoped>\n",
       "    .dataframe tbody tr th:only-of-type {\n",
       "        vertical-align: middle;\n",
       "    }\n",
       "\n",
       "    .dataframe tbody tr th {\n",
       "        vertical-align: top;\n",
       "    }\n",
       "\n",
       "    .dataframe thead th {\n",
       "        text-align: right;\n",
       "    }\n",
       "</style>\n",
       "<table border=\"1\" class=\"dataframe\">\n",
       "  <thead>\n",
       "    <tr style=\"text-align: right;\">\n",
       "      <th></th>\n",
       "      <th>symbol</th>\n",
       "      <th>delta</th>\n",
       "      <th>strike_price</th>\n",
       "      <th>Risk_Return</th>\n",
       "      <th>ask</th>\n",
       "      <th>bid</th>\n",
       "      <th>daysToExpiration</th>\n",
       "    </tr>\n",
       "  </thead>\n",
       "  <tbody>\n",
       "    <tr>\n",
       "      <th>1349</th>\n",
       "      <td>GOOG_100821C3050</td>\n",
       "      <td>0.042</td>\n",
       "      <td>3050.0</td>\n",
       "      <td>-134327.761985</td>\n",
       "      <td>2.35</td>\n",
       "      <td>1.95</td>\n",
       "      <td>16</td>\n",
       "    </tr>\n",
       "  </tbody>\n",
       "</table>\n",
       "</div>"
      ],
      "text/plain": [
       "                symbol  delta  strike_price    Risk_Return   ask   bid  \\\n",
       "1349  GOOG_100821C3050  0.042        3050.0 -134327.761985  2.35  1.95   \n",
       "\n",
       "      daysToExpiration  \n",
       "1349                16  "
      ]
     },
     "execution_count": 37,
     "metadata": {},
     "output_type": "execute_result"
    }
   ],
   "source": [
    "call_short"
   ]
  },
  {
   "cell_type": "code",
   "execution_count": 38,
   "id": "66feaa84",
   "metadata": {},
   "outputs": [],
   "source": [
    "# For ‘putCall’ = PUT & ` strike price < (‘p0 – (Pcs-P0)* 1.25)\n",
    "# Delta_diff = [Abs(Delta – Dcs)]\n",
    "# Check for min Delta_diff\n",
    "# Dps = corresponding Delta, Symbol_PS = corresponding symbol Pps = Strike Price\n",
    "put_short= df_sub.loc[(df_sub.putCall=='PUT') & \n",
    "           (df_sub.strike_price.values < (most_recent_price[0]-(pcs.iloc[0]-most_recent_price.iloc[0])*0.5))&\n",
    "           (df_sub.strike_price.values > (most_recent_price[0]-(pcs.iloc[0]-most_recent_price.iloc[0])*1.25))&\n",
    "                      (df_sub.daysToExpiration == call_short.daysToExpiration.values[0])\n",
    "                    ]\n",
    "put_short['delta_diff']= abs(put_short['delta']-call_short.delta.iloc[0])\n",
    "put_short= put_short.loc[put_short['Risk_Return']==put_short['Risk_Return'].min()][['symbol','delta','strike_price','Risk_Return','ask','bid','daysToExpiration']]\n",
    "put_short=put_short.loc[put_short.strike_price==put_short.strike_price.max()]"
   ]
  },
  {
   "cell_type": "code",
   "execution_count": 39,
   "id": "88aad6a5",
   "metadata": {},
   "outputs": [
    {
     "data": {
      "text/html": [
       "<div>\n",
       "<style scoped>\n",
       "    .dataframe tbody tr th:only-of-type {\n",
       "        vertical-align: middle;\n",
       "    }\n",
       "\n",
       "    .dataframe tbody tr th {\n",
       "        vertical-align: top;\n",
       "    }\n",
       "\n",
       "    .dataframe thead th {\n",
       "        text-align: right;\n",
       "    }\n",
       "</style>\n",
       "<table border=\"1\" class=\"dataframe\">\n",
       "  <thead>\n",
       "    <tr style=\"text-align: right;\">\n",
       "      <th></th>\n",
       "      <th>symbol</th>\n",
       "      <th>delta</th>\n",
       "      <th>strike_price</th>\n",
       "      <th>Risk_Return</th>\n",
       "      <th>ask</th>\n",
       "      <th>bid</th>\n",
       "      <th>daysToExpiration</th>\n",
       "    </tr>\n",
       "  </thead>\n",
       "  <tbody>\n",
       "    <tr>\n",
       "      <th>1265</th>\n",
       "      <td>GOOG_100821P2530</td>\n",
       "      <td>-0.084</td>\n",
       "      <td>2530.0</td>\n",
       "      <td>-1.038934e+06</td>\n",
       "      <td>9.2</td>\n",
       "      <td>8.7</td>\n",
       "      <td>16</td>\n",
       "    </tr>\n",
       "  </tbody>\n",
       "</table>\n",
       "</div>"
      ],
      "text/plain": [
       "                symbol  delta  strike_price   Risk_Return  ask  bid  \\\n",
       "1265  GOOG_100821P2530 -0.084        2530.0 -1.038934e+06  9.2  8.7   \n",
       "\n",
       "      daysToExpiration  \n",
       "1265                16  "
      ]
     },
     "execution_count": 39,
     "metadata": {},
     "output_type": "execute_result"
    }
   ],
   "source": [
    "put_short"
   ]
  },
  {
   "cell_type": "code",
   "execution_count": 40,
   "id": "f1d27b26",
   "metadata": {},
   "outputs": [],
   "source": [
    "# For ‘putCall’ = PUT & ` strike price <  (‘Pps – (Pcl-Pcs)*1.25)\n",
    "# Delta_diff = [Abs(Delta – Dcl)]\n",
    "# Check for min Delta_diff \n",
    "# Dpl = corresponding Delta, Symbol_PL = corresponding symbol\n",
    "\n",
    "pps=put_short['strike_price']\n",
    "put_long=df_sub.loc[(df_sub.putCall=='PUT')& \n",
    "                    (df_sub.strike_price.values <= (pps.iloc[0]-(call_long.strike_price.iloc[0]-call_short.strike_price.iloc[0])*1.25)) &\n",
    "                    (df_sub.strike_price.values >= (pps.iloc[0]-(call_long.strike_price.iloc[0]-call_short.strike_price.iloc[0])*1.75)) &\n",
    "                    (df_sub.daysToExpiration == call_short.daysToExpiration.values[0])\n",
    "                    ]\n",
    "\n",
    "put_long['delta_diff']= abs(put_long['delta']-call_long.iloc[0,1])\n",
    "put_long= put_long.loc[put_long['Risk_Return']==put_long['Risk_Return'].min()][['symbol','delta','strike_price','Risk_Return','ask','bid','daysToExpiration']]\n",
    "put_long=put_long.loc[put_long.strike_price==put_long.strike_price.max()]"
   ]
  },
  {
   "cell_type": "code",
   "execution_count": 41,
   "id": "d5cfd524",
   "metadata": {},
   "outputs": [
    {
     "data": {
      "text/html": [
       "<div>\n",
       "<style scoped>\n",
       "    .dataframe tbody tr th:only-of-type {\n",
       "        vertical-align: middle;\n",
       "    }\n",
       "\n",
       "    .dataframe tbody tr th {\n",
       "        vertical-align: top;\n",
       "    }\n",
       "\n",
       "    .dataframe thead th {\n",
       "        text-align: right;\n",
       "    }\n",
       "</style>\n",
       "<table border=\"1\" class=\"dataframe\">\n",
       "  <thead>\n",
       "    <tr style=\"text-align: right;\">\n",
       "      <th></th>\n",
       "      <th>symbol</th>\n",
       "      <th>delta</th>\n",
       "      <th>strike_price</th>\n",
       "      <th>Risk_Return</th>\n",
       "      <th>ask</th>\n",
       "      <th>bid</th>\n",
       "      <th>daysToExpiration</th>\n",
       "    </tr>\n",
       "  </thead>\n",
       "  <tbody>\n",
       "    <tr>\n",
       "      <th>1252</th>\n",
       "      <td>GOOG_100821P2400</td>\n",
       "      <td>-0.042</td>\n",
       "      <td>2400.0</td>\n",
       "      <td>3045.896285</td>\n",
       "      <td>4.9</td>\n",
       "      <td>4.4</td>\n",
       "      <td>16</td>\n",
       "    </tr>\n",
       "  </tbody>\n",
       "</table>\n",
       "</div>"
      ],
      "text/plain": [
       "                symbol  delta  strike_price  Risk_Return  ask  bid  \\\n",
       "1252  GOOG_100821P2400 -0.042        2400.0  3045.896285  4.9  4.4   \n",
       "\n",
       "      daysToExpiration  \n",
       "1252                16  "
      ]
     },
     "execution_count": 41,
     "metadata": {},
     "output_type": "execute_result"
    }
   ],
   "source": [
    "put_long"
   ]
  },
  {
   "cell_type": "code",
   "execution_count": 42,
   "id": "04cf3591",
   "metadata": {},
   "outputs": [],
   "source": [
    "# Max Income, I = Price of CS + Price of PS – Price of CL -Price of PL\n",
    "# Maximum Loss, Pot_Loss = Max[( Pps- Ppl), (Pcl-Pcs)]-I\n",
    "# Break Even Lower be_lower= Pps- I\n",
    "# Break Even Upper, be_upper= Pcs + I\n",
    "max_income=(call_short.ask.values[0]+ put_short.ask.values[0]-call_long.ask.values[0]-put_long.ask.values[0])*100\n",
    "max_loss= max((put_short.strike_price.values[0]-put_long.strike_price.values[0]),\n",
    "              (call_long.strike_price.values[0]-call_short.strike_price.values[0]))*100-max_income\n",
    "break_even_lower= put_short.strike_price.values[0]-max_income/100\n",
    "break_even_upper= call_short.strike_price.values[0]+max_income/100"
   ]
  },
  {
   "cell_type": "code",
   "execution_count": 43,
   "id": "0316e2c7",
   "metadata": {},
   "outputs": [
    {
     "name": "stdout",
     "output_type": "stream",
     "text": [
      "Call Short:     ['GOOG_100821C3050']\n",
      "Call Long:      ['GOOG_100821C3150']\n",
      "Put Short:      ['GOOG_100821P2530']\n",
      "Put Long:       ['GOOG_100821P2400']\n",
      "Maximum Possible Profit:      564.9999999999999\n",
      "Maximum Potential loss:      12435.0\n",
      "Break Even Lower be_lower:      2524.35\n",
      "Break Even Upper:               3055.65\n"
     ]
    }
   ],
   "source": [
    "# Recommendations:\n",
    "# Call Short: Symbol_CS\n",
    "# Call Long: Symbol_CL\n",
    "# Put Short: Symbol_PS\n",
    "# Put Long: Symbol_PL\n",
    "# Maximum Possible Profit = I\n",
    "# Maximum Potential Loss = Pot_Loss\n",
    "# Profitable Price Range = ( be_lower, be_upper)\n",
    "print(f'Call Short:     {call_short.symbol.values}')\n",
    "print(f'Call Long:      {call_long.symbol.values}')\n",
    "print(f'Put Short:      {put_short.symbol.values}')\n",
    "print(f'Put Long:       {put_long.symbol.values}')\n",
    "\n",
    "print(f'Maximum Possible Profit:      {max_income}')\n",
    "print(f'Maximum Potential loss:      {max_loss}')\n",
    "\n",
    "print(f'Break Even Lower be_lower:      {break_even_lower}')\n",
    "print(f'Break Even Upper:               {break_even_upper}')"
   ]
  },
  {
   "cell_type": "code",
   "execution_count": 44,
   "id": "f75f7ffa",
   "metadata": {},
   "outputs": [],
   "source": [
    "#Visualizations"
   ]
  },
  {
   "cell_type": "code",
   "execution_count": 144,
   "id": "afec269f",
   "metadata": {},
   "outputs": [
    {
     "data": {
      "image/png": "[encoded data removed]",
      "text/plain": [
       "<Figure size 720x432 with 1 Axes>"
      ]
     },
     "metadata": {
      "needs_background": "light"
     },
     "output_type": "display_data"
    }
   ],
   "source": [
    "op1={'op_type': 'c', 'strike': 3050.0, 'tr_type': 's', 'op_pr': 1.95}\n",
    "op2={'op_type': 'c', 'strike': 3150.0, 'tr_type': 'b', 'op_pr': 0.55}\n",
    "op3={'op_type': 'p', 'strike': 2540.0, 'tr_type': 's', 'op_pr': 8.7}\n",
    "op4={'op_type': 'p', 'strike': 2410.0, 'tr_type': 'b', 'op_pr': 4.4}\n",
    "\n",
    "op_list=[op1, op2, op3, op4]\n",
    "op.multi_plotter(spot=2814.969971,spot_range=, op_list=op_list)"
   ]
  },
  {
   "cell_type": "markdown",
   "id": "177aa278",
   "metadata": {},
   "source": [
    "# fig = px.line(df, x = 'AAPL_x', y = 'AAPL_y', title='Apple Share Prices over time (2014)')\n",
    "fig.show()"
   ]
  },
  {
   "cell_type": "code",
   "execution_count": 67,
   "id": "0978d289",
   "metadata": {},
   "outputs": [
    {
     "data": {
      "application/vnd.plotly.v1+json": {
       "config": {
        "plotlyServerURL": "https://plot.ly"
       },
       "data": [
        {
         "hovertemplate": "variable=Open<br>Date=%{x}<br>value=%{y}<extra></extra>",
         "legendgroup": "Open",
         "line": {
          "color": "#636efa",
          "dash": "solid"
         },
         "marker": {
          "symbol": "circle"
         },
         "mode": "lines",
         "name": "Open",
         "orientation": "v",
         "showlegend": true,
         "type": "scatter",
         "x": [
          "2021-09-10T00:00:00",
          "2021-09-13T00:00:00",
          "2021-09-14T00:00:00",
          "2021-09-15T00:00:00",
          "2021-09-16T00:00:00",
          "2021-09-17T00:00:00",
          "2021-09-20T00:00:00"
         ],
         "xaxis": "x",
         "y": [
          2908.8701171875,
          2864.02001953125,
          2883.219970703125,
          2875.179931640625,
          2902.419921875,
          2875.969970703125,
          2780.00390625
         ],
         "yaxis": "y"
        },
        {
         "hovertemplate": "variable=Close<br>Date=%{x}<br>value=%{y}<extra></extra>",
         "legendgroup": "Close",
         "line": {
          "color": "#EF553B",
          "dash": "solid"
         },
         "marker": {
          "symbol": "circle"
         },
         "mode": "lines",
         "name": "Close",
         "orientation": "v",
         "showlegend": true,
         "type": "scatter",
         "x": [
          "2021-09-10T00:00:00",
          "2021-09-13T00:00:00",
          "2021-09-14T00:00:00",
          "2021-09-15T00:00:00",
          "2021-09-16T00:00:00",
          "2021-09-17T00:00:00",
          "2021-09-20T00:00:00"
         ],
         "xaxis": "x",
         "y": [
          2838.419921875,
          2869.300048828125,
          2868.1201171875,
          2904.1201171875,
          2887.469970703125,
          2829.27001953125,
          2780.340087890625
         ],
         "yaxis": "y"
        },
        {
         "hovertemplate": "variable=High<br>Date=%{x}<br>value=%{y}<extra></extra>",
         "legendgroup": "High",
         "line": {
          "color": "#00cc96",
          "dash": "solid"
         },
         "marker": {
          "symbol": "circle"
         },
         "mode": "lines",
         "name": "High",
         "orientation": "v",
         "showlegend": true,
         "type": "scatter",
         "x": [
          "2021-09-10T00:00:00",
          "2021-09-13T00:00:00",
          "2021-09-14T00:00:00",
          "2021-09-15T00:00:00",
          "2021-09-16T00:00:00",
          "2021-09-17T00:00:00",
          "2021-09-20T00:00:00"
         ],
         "xaxis": "x",
         "y": [
          2920.3798828125,
          2883.820068359375,
          2894.550048828125,
          2911.6298828125,
          2904,
          2884.989990234375,
          2787.25
         ],
         "yaxis": "y"
        },
        {
         "hovertemplate": "variable=Low<br>Date=%{x}<br>value=%{y}<extra></extra>",
         "legendgroup": "Low",
         "line": {
          "color": "#ab63fa",
          "dash": "solid"
         },
         "marker": {
          "symbol": "circle"
         },
         "mode": "lines",
         "name": "Low",
         "orientation": "v",
         "showlegend": true,
         "type": "scatter",
         "x": [
          "2021-09-10T00:00:00",
          "2021-09-13T00:00:00",
          "2021-09-14T00:00:00",
          "2021-09-15T00:00:00",
          "2021-09-16T00:00:00",
          "2021-09-17T00:00:00",
          "2021-09-20T00:00:00"
         ],
         "xaxis": "x",
         "y": [
          2834.830078125,
          2845.64990234375,
          2858.110107421875,
          2845.1201171875,
          2868.326904296875,
          2821.22998046875,
          2741.06005859375
         ],
         "yaxis": "y"
        }
       ],
       "layout": {
        "autosize": true,
        "legend": {
         "title": {
          "text": "variable"
         },
         "tracegroupgap": 0
        },
        "margin": {
         "t": 60
        },
        "template": {
         "data": {
          "bar": [
           {
            "error_x": {
             "color": "#2a3f5f"
            },
            "error_y": {
             "color": "#2a3f5f"
            },
            "marker": {
             "line": {
              "color": "#E5ECF6",
              "width": 0.5
             },
             "pattern": {
              "fillmode": "overlay",
              "size": 10,
              "solidity": 0.2
             }
            },
            "type": "bar"
           }
          ],
          "barpolar": [
           {
            "marker": {
             "line": {
              "color": "#E5ECF6",
              "width": 0.5
             },
             "pattern": {
              "fillmode": "overlay",
              "size": 10,
              "solidity": 0.2
             }
            },
            "type": "barpolar"
           }
          ],
          "carpet": [
           {
            "aaxis": {
             "endlinecolor": "#2a3f5f",
             "gridcolor": "white",
             "linecolor": "white",
             "minorgridcolor": "white",
             "startlinecolor": "#2a3f5f"
            },
            "baxis": {
             "endlinecolor": "#2a3f5f",
             "gridcolor": "white",
             "linecolor": "white",
             "minorgridcolor": "white",
             "startlinecolor": "#2a3f5f"
            },
            "type": "carpet"
           }
          ],
          "choropleth": [
           {
            "colorbar": {
             "outlinewidth": 0,
             "ticks": ""
            },
            "type": "choropleth"
           }
          ],
          "contour": [
           {
            "colorbar": {
             "outlinewidth": 0,
             "ticks": ""
            },
            "colorscale": [
             [
              0,
              "#0d0887"
             ],
             [
              0.1111111111111111,
              "#46039f"
             ],
             [
              0.2222222222222222,
              "#7201a8"
             ],
             [
              0.3333333333333333,
              "#9c179e"
             ],
             [
              0.4444444444444444,
              "#bd3786"
             ],
             [
              0.5555555555555556,
              "#d8576b"
             ],
             [
              0.6666666666666666,
              "#ed7953"
             ],
             [
              0.7777777777777778,
              "#fb9f3a"
             ],
             [
              0.8888888888888888,
              "#fdca26"
             ],
             [
              1,
              "#f0f921"
             ]
            ],
            "type": "contour"
           }
          ],
          "contourcarpet": [
           {
            "colorbar": {
             "outlinewidth": 0,
             "ticks": ""
            },
            "type": "contourcarpet"
           }
          ],
          "heatmap": [
           {
            "colorbar": {
             "outlinewidth": 0,
             "ticks": ""
            },
            "colorscale": [
             [
              0,
              "#0d0887"
             ],
             [
              0.1111111111111111,
              "#46039f"
             ],
             [
              0.2222222222222222,
              "#7201a8"
             ],
             [
              0.3333333333333333,
              "#9c179e"
             ],
             [
              0.4444444444444444,
              "#bd3786"
             ],
             [
              0.5555555555555556,
              "#d8576b"
             ],
             [
              0.6666666666666666,
              "#ed7953"
             ],
             [
              0.7777777777777778,
              "#fb9f3a"
             ],
             [
              0.8888888888888888,
              "#fdca26"
             ],
             [
              1,
              "#f0f921"
             ]
            ],
            "type": "heatmap"
           }
          ],
          "heatmapgl": [
           {
            "colorbar": {
             "outlinewidth": 0,
             "ticks": ""
            },
            "colorscale": [
             [
              0,
              "#0d0887"
             ],
             [
              0.1111111111111111,
              "#46039f"
             ],
             [
              0.2222222222222222,
              "#7201a8"
             ],
             [
              0.3333333333333333,
              "#9c179e"
             ],
             [
              0.4444444444444444,
              "#bd3786"
             ],
             [
              0.5555555555555556,
              "#d8576b"
             ],
             [
              0.6666666666666666,
              "#ed7953"
             ],
             [
              0.7777777777777778,
              "#fb9f3a"
             ],
             [
              0.8888888888888888,
              "#fdca26"
             ],
             [
              1,
              "#f0f921"
             ]
            ],
            "type": "heatmapgl"
           }
          ],
          "histogram": [
           {
            "marker": {
             "pattern": {
              "fillmode": "overlay",
              "size": 10,
              "solidity": 0.2
             }
            },
            "type": "histogram"
           }
          ],
          "histogram2d": [
           {
            "colorbar": {
             "outlinewidth": 0,
             "ticks": ""
            },
            "colorscale": [
             [
              0,
              "#0d0887"
             ],
             [
              0.1111111111111111,
              "#46039f"
             ],
             [
              0.2222222222222222,
              "#7201a8"
             ],
             [
              0.3333333333333333,
              "#9c179e"
             ],
             [
              0.4444444444444444,
              "#bd3786"
             ],
             [
              0.5555555555555556,
              "#d8576b"
             ],
             [
              0.6666666666666666,
              "#ed7953"
             ],
             [
              0.7777777777777778,
              "#fb9f3a"
             ],
             [
              0.8888888888888888,
              "#fdca26"
             ],
             [
              1,
              "#f0f921"
             ]
            ],
            "type": "histogram2d"
           }
          ],
          "histogram2dcontour": [
           {
            "colorbar": {
             "outlinewidth": 0,
             "ticks": ""
            },
            "colorscale": [
             [
              0,
              "#0d0887"
             ],
             [
              0.1111111111111111,
              "#46039f"
             ],
             [
              0.2222222222222222,
              "#7201a8"
             ],
             [
              0.3333333333333333,
              "#9c179e"
             ],
             [
              0.4444444444444444,
              "#bd3786"
             ],
             [
              0.5555555555555556,
              "#d8576b"
             ],
             [
              0.6666666666666666,
              "#ed7953"
             ],
             [
              0.7777777777777778,
              "#fb9f3a"
             ],
             [
              0.8888888888888888,
              "#fdca26"
             ],
             [
              1,
              "#f0f921"
             ]
            ],
            "type": "histogram2dcontour"
           }
          ],
          "mesh3d": [
           {
            "colorbar": {
             "outlinewidth": 0,
             "ticks": ""
            },
            "type": "mesh3d"
           }
          ],
          "parcoords": [
           {
            "line": {
             "colorbar": {
              "outlinewidth": 0,
              "ticks": ""
             }
            },
            "type": "parcoords"
           }
          ],
          "pie": [
           {
            "automargin": true,
            "type": "pie"
           }
          ],
          "scatter": [
           {
            "marker": {
             "colorbar": {
              "outlinewidth": 0,
              "ticks": ""
             }
            },
            "type": "scatter"
           }
          ],
          "scatter3d": [
           {
            "line": {
             "colorbar": {
              "outlinewidth": 0,
              "ticks": ""
             }
            },
            "marker": {
             "colorbar": {
              "outlinewidth": 0,
              "ticks": ""
             }
            },
            "type": "scatter3d"
           }
          ],
          "scattercarpet": [
           {
            "marker": {
             "colorbar": {
              "outlinewidth": 0,
              "ticks": ""
             }
            },
            "type": "scattercarpet"
           }
          ],
          "scattergeo": [
           {
            "marker": {
             "colorbar": {
              "outlinewidth": 0,
              "ticks": ""
             }
            },
            "type": "scattergeo"
           }
          ],
          "scattergl": [
           {
            "marker": {
             "colorbar": {
              "outlinewidth": 0,
              "ticks": ""
             }
            },
            "type": "scattergl"
           }
          ],
          "scattermapbox": [
           {
            "marker": {
             "colorbar": {
              "outlinewidth": 0,
              "ticks": ""
             }
            },
            "type": "scattermapbox"
           }
          ],
          "scatterpolar": [
           {
            "marker": {
             "colorbar": {
              "outlinewidth": 0,
              "ticks": ""
             }
            },
            "type": "scatterpolar"
           }
          ],
          "scatterpolargl": [
           {
            "marker": {
             "colorbar": {
              "outlinewidth": 0,
              "ticks": ""
             }
            },
            "type": "scatterpolargl"
           }
          ],
          "scatterternary": [
           {
            "marker": {
             "colorbar": {
              "outlinewidth": 0,
              "ticks": ""
             }
            },
            "type": "scatterternary"
           }
          ],
          "surface": [
           {
            "colorbar": {
             "outlinewidth": 0,
             "ticks": ""
            },
            "colorscale": [
             [
              0,
              "#0d0887"
             ],
             [
              0.1111111111111111,
              "#46039f"
             ],
             [
              0.2222222222222222,
              "#7201a8"
             ],
             [
              0.3333333333333333,
              "#9c179e"
             ],
             [
              0.4444444444444444,
              "#bd3786"
             ],
             [
              0.5555555555555556,
              "#d8576b"
             ],
             [
              0.6666666666666666,
              "#ed7953"
             ],
             [
              0.7777777777777778,
              "#fb9f3a"
             ],
             [
              0.8888888888888888,
              "#fdca26"
             ],
             [
              1,
              "#f0f921"
             ]
            ],
            "type": "surface"
           }
          ],
          "table": [
           {
            "cells": {
             "fill": {
              "color": "#EBF0F8"
             },
             "line": {
              "color": "white"
             }
            },
            "header": {
             "fill": {
              "color": "#C8D4E3"
             },
             "line": {
              "color": "white"
             }
            },
            "type": "table"
           }
          ]
         },
         "layout": {
          "annotationdefaults": {
           "arrowcolor": "#2a3f5f",
           "arrowhead": 0,
           "arrowwidth": 1
          },
          "autotypenumbers": "strict",
          "coloraxis": {
           "colorbar": {
            "outlinewidth": 0,
            "ticks": ""
           }
          },
          "colorscale": {
           "diverging": [
            [
             0,
             "#8e0152"
            ],
            [
             0.1,
             "#c51b7d"
            ],
            [
             0.2,
             "#de77ae"
            ],
            [
             0.3,
             "#f1b6da"
            ],
            [
             0.4,
             "#fde0ef"
            ],
            [
             0.5,
             "#f7f7f7"
            ],
            [
             0.6,
             "#e6f5d0"
            ],
            [
             0.7,
             "#b8e186"
            ],
            [
             0.8,
             "#7fbc41"
            ],
            [
             0.9,
             "#4d9221"
            ],
            [
             1,
             "#276419"
            ]
           ],
           "sequential": [
            [
             0,
             "#0d0887"
            ],
            [
             0.1111111111111111,
             "#46039f"
            ],
            [
             0.2222222222222222,
             "#7201a8"
            ],
            [
             0.3333333333333333,
             "#9c179e"
            ],
            [
             0.4444444444444444,
             "#bd3786"
            ],
            [
             0.5555555555555556,
             "#d8576b"
            ],
            [
             0.6666666666666666,
             "#ed7953"
            ],
            [
             0.7777777777777778,
             "#fb9f3a"
            ],
            [
             0.8888888888888888,
             "#fdca26"
            ],
            [
             1,
             "#f0f921"
            ]
           ],
           "sequentialminus": [
            [
             0,
             "#0d0887"
            ],
            [
             0.1111111111111111,
             "#46039f"
            ],
            [
             0.2222222222222222,
             "#7201a8"
            ],
            [
             0.3333333333333333,
             "#9c179e"
            ],
            [
             0.4444444444444444,
             "#bd3786"
            ],
            [
             0.5555555555555556,
             "#d8576b"
            ],
            [
             0.6666666666666666,
             "#ed7953"
            ],
            [
             0.7777777777777778,
             "#fb9f3a"
            ],
            [
             0.8888888888888888,
             "#fdca26"
            ],
            [
             1,
             "#f0f921"
            ]
           ]
          },
          "colorway": [
           "#636efa",
           "#EF553B",
           "#00cc96",
           "#ab63fa",
           "#FFA15A",
           "#19d3f3",
           "#FF6692",
           "#B6E880",
           "#FF97FF",
           "#FECB52"
          ],
          "font": {
           "color": "#2a3f5f"
          },
          "geo": {
           "bgcolor": "white",
           "lakecolor": "white",
           "landcolor": "#E5ECF6",
           "showlakes": true,
           "showland": true,
           "subunitcolor": "white"
          },
          "hoverlabel": {
           "align": "left"
          },
          "hovermode": "closest",
          "mapbox": {
           "style": "light"
          },
          "paper_bgcolor": "white",
          "plot_bgcolor": "#E5ECF6",
          "polar": {
           "angularaxis": {
            "gridcolor": "white",
            "linecolor": "white",
            "ticks": ""
           },
           "bgcolor": "#E5ECF6",
           "radialaxis": {
            "gridcolor": "white",
            "linecolor": "white",
            "ticks": ""
           }
          },
          "scene": {
           "xaxis": {
            "backgroundcolor": "#E5ECF6",
            "gridcolor": "white",
            "gridwidth": 2,
            "linecolor": "white",
            "showbackground": true,
            "ticks": "",
            "zerolinecolor": "white"
           },
           "yaxis": {
            "backgroundcolor": "#E5ECF6",
            "gridcolor": "white",
            "gridwidth": 2,
            "linecolor": "white",
            "showbackground": true,
            "ticks": "",
            "zerolinecolor": "white"
           },
           "zaxis": {
            "backgroundcolor": "#E5ECF6",
            "gridcolor": "white",
            "gridwidth": 2,
            "linecolor": "white",
            "showbackground": true,
            "ticks": "",
            "zerolinecolor": "white"
           }
          },
          "shapedefaults": {
           "line": {
            "color": "#2a3f5f"
           }
          },
          "ternary": {
           "aaxis": {
            "gridcolor": "white",
            "linecolor": "white",
            "ticks": ""
           },
           "baxis": {
            "gridcolor": "white",
            "linecolor": "white",
            "ticks": ""
           },
           "bgcolor": "#E5ECF6",
           "caxis": {
            "gridcolor": "white",
            "linecolor": "white",
            "ticks": ""
           }
          },
          "title": {
           "x": 0.05
          },
          "xaxis": {
           "automargin": true,
           "gridcolor": "white",
           "linecolor": "white",
           "ticks": "",
           "title": {
            "standoff": 15
           },
           "zerolinecolor": "white",
           "zerolinewidth": 2
          },
          "yaxis": {
           "automargin": true,
           "gridcolor": "white",
           "linecolor": "white",
           "ticks": "",
           "title": {
            "standoff": 15
           },
           "zerolinecolor": "white",
           "zerolinewidth": 2
          }
         }
        },
        "xaxis": {
         "anchor": "y",
         "autorange": false,
         "domain": [
          0,
          1
         ],
         "range": [
          "2021-09-15 06:41:33.3852",
          "2021-09-20"
         ],
         "title": {
          "text": "Date"
         },
         "type": "date"
        },
        "yaxis": {
         "anchor": "x",
         "autorange": false,
         "domain": [
          0,
          1
         ],
         "range": [
          2731.0978461371533,
          2926.485754963317
         ],
         "title": {
          "text": "value"
         },
         "type": "linear"
        }
       }
      },
      "image/png": "[encoded data removed]",
      "text/html": [
       "<div>                            <div id=\"033ff893-f575-47e4-8e77-ce0eea1eda83\" class=\"plotly-graph-div\" style=\"height:525px; width:100%;\"></div>            <script type=\"text/javascript\">                require([\"plotly\"], function(Plotly) {                    window.PLOTLYENV=window.PLOTLYENV || {};                                    if (document.getElementById(\"033ff893-f575-47e4-8e77-ce0eea1eda83\")) {                    Plotly.newPlot(                        \"033ff893-f575-47e4-8e77-ce0eea1eda83\",                        [{\"hovertemplate\":\"variable=Open<br>Date=%{x}<br>value=%{y}<extra></extra>\",\"legendgroup\":\"Open\",\"line\":{\"color\":\"#636efa\",\"dash\":\"solid\"},\"marker\":{\"symbol\":\"circle\"},\"mode\":\"lines\",\"name\":\"Open\",\"orientation\":\"v\",\"showlegend\":true,\"type\":\"scatter\",\"x\":[\"2021-09-10T00:00:00\",\"2021-09-13T00:00:00\",\"2021-09-14T00:00:00\",\"2021-09-15T00:00:00\",\"2021-09-16T00:00:00\",\"2021-09-17T00:00:00\",\"2021-09-20T00:00:00\"],\"xaxis\":\"x\",\"y\":[2908.8701171875,2864.02001953125,2883.219970703125,2875.179931640625,2902.419921875,2875.969970703125,2780.00390625],\"yaxis\":\"y\"},{\"hovertemplate\":\"variable=Close<br>Date=%{x}<br>value=%{y}<extra></extra>\",\"legendgroup\":\"Close\",\"line\":{\"color\":\"#EF553B\",\"dash\":\"solid\"},\"marker\":{\"symbol\":\"circle\"},\"mode\":\"lines\",\"name\":\"Close\",\"orientation\":\"v\",\"showlegend\":true,\"type\":\"scatter\",\"x\":[\"2021-09-10T00:00:00\",\"2021-09-13T00:00:00\",\"2021-09-14T00:00:00\",\"2021-09-15T00:00:00\",\"2021-09-16T00:00:00\",\"2021-09-17T00:00:00\",\"2021-09-20T00:00:00\"],\"xaxis\":\"x\",\"y\":[2838.419921875,2869.300048828125,2868.1201171875,2904.1201171875,2887.469970703125,2829.27001953125,2780.340087890625],\"yaxis\":\"y\"},{\"hovertemplate\":\"variable=High<br>Date=%{x}<br>value=%{y}<extra></extra>\",\"legendgroup\":\"High\",\"line\":{\"color\":\"#00cc96\",\"dash\":\"solid\"},\"marker\":{\"symbol\":\"circle\"},\"mode\":\"lines\",\"name\":\"High\",\"orientation\":\"v\",\"showlegend\":true,\"type\":\"scatter\",\"x\":[\"2021-09-10T00:00:00\",\"2021-09-13T00:00:00\",\"2021-09-14T00:00:00\",\"2021-09-15T00:00:00\",\"2021-09-16T00:00:00\",\"2021-09-17T00:00:00\",\"2021-09-20T00:00:00\"],\"xaxis\":\"x\",\"y\":[2920.3798828125,2883.820068359375,2894.550048828125,2911.6298828125,2904.0,2884.989990234375,2787.25],\"yaxis\":\"y\"},{\"hovertemplate\":\"variable=Low<br>Date=%{x}<br>value=%{y}<extra></extra>\",\"legendgroup\":\"Low\",\"line\":{\"color\":\"#ab63fa\",\"dash\":\"solid\"},\"marker\":{\"symbol\":\"circle\"},\"mode\":\"lines\",\"name\":\"Low\",\"orientation\":\"v\",\"showlegend\":true,\"type\":\"scatter\",\"x\":[\"2021-09-10T00:00:00\",\"2021-09-13T00:00:00\",\"2021-09-14T00:00:00\",\"2021-09-15T00:00:00\",\"2021-09-16T00:00:00\",\"2021-09-17T00:00:00\",\"2021-09-20T00:00:00\"],\"xaxis\":\"x\",\"y\":[2834.830078125,2845.64990234375,2858.110107421875,2845.1201171875,2868.326904296875,2821.22998046875,2741.06005859375],\"yaxis\":\"y\"}],                        {\"legend\":{\"title\":{\"text\":\"variable\"},\"tracegroupgap\":0},\"margin\":{\"t\":60},\"template\":{\"data\":{\"bar\":[{\"error_x\":{\"color\":\"#2a3f5f\"},\"error_y\":{\"color\":\"#2a3f5f\"},\"marker\":{\"line\":{\"color\":\"#E5ECF6\",\"width\":0.5},\"pattern\":{\"fillmode\":\"overlay\",\"size\":10,\"solidity\":0.2}},\"type\":\"bar\"}],\"barpolar\":[{\"marker\":{\"line\":{\"color\":\"#E5ECF6\",\"width\":0.5},\"pattern\":{\"fillmode\":\"overlay\",\"size\":10,\"solidity\":0.2}},\"type\":\"barpolar\"}],\"carpet\":[{\"aaxis\":{\"endlinecolor\":\"#2a3f5f\",\"gridcolor\":\"white\",\"linecolor\":\"white\",\"minorgridcolor\":\"white\",\"startlinecolor\":\"#2a3f5f\"},\"baxis\":{\"endlinecolor\":\"#2a3f5f\",\"gridcolor\":\"white\",\"linecolor\":\"white\",\"minorgridcolor\":\"white\",\"startlinecolor\":\"#2a3f5f\"},\"type\":\"carpet\"}],\"choropleth\":[{\"colorbar\":{\"outlinewidth\":0,\"ticks\":\"\"},\"type\":\"choropleth\"}],\"contour\":[{\"colorbar\":{\"outlinewidth\":0,\"ticks\":\"\"},\"colorscale\":[[0.0,\"#0d0887\"],[0.1111111111111111,\"#46039f\"],[0.2222222222222222,\"#7201a8\"],[0.3333333333333333,\"#9c179e\"],[0.4444444444444444,\"#bd3786\"],[0.5555555555555556,\"#d8576b\"],[0.6666666666666666,\"#ed7953\"],[0.7777777777777778,\"#fb9f3a\"],[0.8888888888888888,\"#fdca26\"],[1.0,\"#f0f921\"]],\"type\":\"contour\"}],\"contourcarpet\":[{\"colorbar\":{\"outlinewidth\":0,\"ticks\":\"\"},\"type\":\"contourcarpet\"}],\"heatmap\":[{\"colorbar\":{\"outlinewidth\":0,\"ticks\":\"\"},\"colorscale\":[[0.0,\"#0d0887\"],[0.1111111111111111,\"#46039f\"],[0.2222222222222222,\"#7201a8\"],[0.3333333333333333,\"#9c179e\"],[0.4444444444444444,\"#bd3786\"],[0.5555555555555556,\"#d8576b\"],[0.6666666666666666,\"#ed7953\"],[0.7777777777777778,\"#fb9f3a\"],[0.8888888888888888,\"#fdca26\"],[1.0,\"#f0f921\"]],\"type\":\"heatmap\"}],\"heatmapgl\":[{\"colorbar\":{\"outlinewidth\":0,\"ticks\":\"\"},\"colorscale\":[[0.0,\"#0d0887\"],[0.1111111111111111,\"#46039f\"],[0.2222222222222222,\"#7201a8\"],[0.3333333333333333,\"#9c179e\"],[0.4444444444444444,\"#bd3786\"],[0.5555555555555556,\"#d8576b\"],[0.6666666666666666,\"#ed7953\"],[0.7777777777777778,\"#fb9f3a\"],[0.8888888888888888,\"#fdca26\"],[1.0,\"#f0f921\"]],\"type\":\"heatmapgl\"}],\"histogram\":[{\"marker\":{\"pattern\":{\"fillmode\":\"overlay\",\"size\":10,\"solidity\":0.2}},\"type\":\"histogram\"}],\"histogram2d\":[{\"colorbar\":{\"outlinewidth\":0,\"ticks\":\"\"},\"colorscale\":[[0.0,\"#0d0887\"],[0.1111111111111111,\"#46039f\"],[0.2222222222222222,\"#7201a8\"],[0.3333333333333333,\"#9c179e\"],[0.4444444444444444,\"#bd3786\"],[0.5555555555555556,\"#d8576b\"],[0.6666666666666666,\"#ed7953\"],[0.7777777777777778,\"#fb9f3a\"],[0.8888888888888888,\"#fdca26\"],[1.0,\"#f0f921\"]],\"type\":\"histogram2d\"}],\"histogram2dcontour\":[{\"colorbar\":{\"outlinewidth\":0,\"ticks\":\"\"},\"colorscale\":[[0.0,\"#0d0887\"],[0.1111111111111111,\"#46039f\"],[0.2222222222222222,\"#7201a8\"],[0.3333333333333333,\"#9c179e\"],[0.4444444444444444,\"#bd3786\"],[0.5555555555555556,\"#d8576b\"],[0.6666666666666666,\"#ed7953\"],[0.7777777777777778,\"#fb9f3a\"],[0.8888888888888888,\"#fdca26\"],[1.0,\"#f0f921\"]],\"type\":\"histogram2dcontour\"}],\"mesh3d\":[{\"colorbar\":{\"outlinewidth\":0,\"ticks\":\"\"},\"type\":\"mesh3d\"}],\"parcoords\":[{\"line\":{\"colorbar\":{\"outlinewidth\":0,\"ticks\":\"\"}},\"type\":\"parcoords\"}],\"pie\":[{\"automargin\":true,\"type\":\"pie\"}],\"scatter\":[{\"marker\":{\"colorbar\":{\"outlinewidth\":0,\"ticks\":\"\"}},\"type\":\"scatter\"}],\"scatter3d\":[{\"line\":{\"colorbar\":{\"outlinewidth\":0,\"ticks\":\"\"}},\"marker\":{\"colorbar\":{\"outlinewidth\":0,\"ticks\":\"\"}},\"type\":\"scatter3d\"}],\"scattercarpet\":[{\"marker\":{\"colorbar\":{\"outlinewidth\":0,\"ticks\":\"\"}},\"type\":\"scattercarpet\"}],\"scattergeo\":[{\"marker\":{\"colorbar\":{\"outlinewidth\":0,\"ticks\":\"\"}},\"type\":\"scattergeo\"}],\"scattergl\":[{\"marker\":{\"colorbar\":{\"outlinewidth\":0,\"ticks\":\"\"}},\"type\":\"scattergl\"}],\"scattermapbox\":[{\"marker\":{\"colorbar\":{\"outlinewidth\":0,\"ticks\":\"\"}},\"type\":\"scattermapbox\"}],\"scatterpolar\":[{\"marker\":{\"colorbar\":{\"outlinewidth\":0,\"ticks\":\"\"}},\"type\":\"scatterpolar\"}],\"scatterpolargl\":[{\"marker\":{\"colorbar\":{\"outlinewidth\":0,\"ticks\":\"\"}},\"type\":\"scatterpolargl\"}],\"scatterternary\":[{\"marker\":{\"colorbar\":{\"outlinewidth\":0,\"ticks\":\"\"}},\"type\":\"scatterternary\"}],\"surface\":[{\"colorbar\":{\"outlinewidth\":0,\"ticks\":\"\"},\"colorscale\":[[0.0,\"#0d0887\"],[0.1111111111111111,\"#46039f\"],[0.2222222222222222,\"#7201a8\"],[0.3333333333333333,\"#9c179e\"],[0.4444444444444444,\"#bd3786\"],[0.5555555555555556,\"#d8576b\"],[0.6666666666666666,\"#ed7953\"],[0.7777777777777778,\"#fb9f3a\"],[0.8888888888888888,\"#fdca26\"],[1.0,\"#f0f921\"]],\"type\":\"surface\"}],\"table\":[{\"cells\":{\"fill\":{\"color\":\"#EBF0F8\"},\"line\":{\"color\":\"white\"}},\"header\":{\"fill\":{\"color\":\"#C8D4E3\"},\"line\":{\"color\":\"white\"}},\"type\":\"table\"}]},\"layout\":{\"annotationdefaults\":{\"arrowcolor\":\"#2a3f5f\",\"arrowhead\":0,\"arrowwidth\":1},\"autotypenumbers\":\"strict\",\"coloraxis\":{\"colorbar\":{\"outlinewidth\":0,\"ticks\":\"\"}},\"colorscale\":{\"diverging\":[[0,\"#8e0152\"],[0.1,\"#c51b7d\"],[0.2,\"#de77ae\"],[0.3,\"#f1b6da\"],[0.4,\"#fde0ef\"],[0.5,\"#f7f7f7\"],[0.6,\"#e6f5d0\"],[0.7,\"#b8e186\"],[0.8,\"#7fbc41\"],[0.9,\"#4d9221\"],[1,\"#276419\"]],\"sequential\":[[0.0,\"#0d0887\"],[0.1111111111111111,\"#46039f\"],[0.2222222222222222,\"#7201a8\"],[0.3333333333333333,\"#9c179e\"],[0.4444444444444444,\"#bd3786\"],[0.5555555555555556,\"#d8576b\"],[0.6666666666666666,\"#ed7953\"],[0.7777777777777778,\"#fb9f3a\"],[0.8888888888888888,\"#fdca26\"],[1.0,\"#f0f921\"]],\"sequentialminus\":[[0.0,\"#0d0887\"],[0.1111111111111111,\"#46039f\"],[0.2222222222222222,\"#7201a8\"],[0.3333333333333333,\"#9c179e\"],[0.4444444444444444,\"#bd3786\"],[0.5555555555555556,\"#d8576b\"],[0.6666666666666666,\"#ed7953\"],[0.7777777777777778,\"#fb9f3a\"],[0.8888888888888888,\"#fdca26\"],[1.0,\"#f0f921\"]]},\"colorway\":[\"#636efa\",\"#EF553B\",\"#00cc96\",\"#ab63fa\",\"#FFA15A\",\"#19d3f3\",\"#FF6692\",\"#B6E880\",\"#FF97FF\",\"#FECB52\"],\"font\":{\"color\":\"#2a3f5f\"},\"geo\":{\"bgcolor\":\"white\",\"lakecolor\":\"white\",\"landcolor\":\"#E5ECF6\",\"showlakes\":true,\"showland\":true,\"subunitcolor\":\"white\"},\"hoverlabel\":{\"align\":\"left\"},\"hovermode\":\"closest\",\"mapbox\":{\"style\":\"light\"},\"paper_bgcolor\":\"white\",\"plot_bgcolor\":\"#E5ECF6\",\"polar\":{\"angularaxis\":{\"gridcolor\":\"white\",\"linecolor\":\"white\",\"ticks\":\"\"},\"bgcolor\":\"#E5ECF6\",\"radialaxis\":{\"gridcolor\":\"white\",\"linecolor\":\"white\",\"ticks\":\"\"}},\"scene\":{\"xaxis\":{\"backgroundcolor\":\"#E5ECF6\",\"gridcolor\":\"white\",\"gridwidth\":2,\"linecolor\":\"white\",\"showbackground\":true,\"ticks\":\"\",\"zerolinecolor\":\"white\"},\"yaxis\":{\"backgroundcolor\":\"#E5ECF6\",\"gridcolor\":\"white\",\"gridwidth\":2,\"linecolor\":\"white\",\"showbackground\":true,\"ticks\":\"\",\"zerolinecolor\":\"white\"},\"zaxis\":{\"backgroundcolor\":\"#E5ECF6\",\"gridcolor\":\"white\",\"gridwidth\":2,\"linecolor\":\"white\",\"showbackground\":true,\"ticks\":\"\",\"zerolinecolor\":\"white\"}},\"shapedefaults\":{\"line\":{\"color\":\"#2a3f5f\"}},\"ternary\":{\"aaxis\":{\"gridcolor\":\"white\",\"linecolor\":\"white\",\"ticks\":\"\"},\"baxis\":{\"gridcolor\":\"white\",\"linecolor\":\"white\",\"ticks\":\"\"},\"bgcolor\":\"#E5ECF6\",\"caxis\":{\"gridcolor\":\"white\",\"linecolor\":\"white\",\"ticks\":\"\"}},\"title\":{\"x\":0.05},\"xaxis\":{\"automargin\":true,\"gridcolor\":\"white\",\"linecolor\":\"white\",\"ticks\":\"\",\"title\":{\"standoff\":15},\"zerolinecolor\":\"white\",\"zerolinewidth\":2},\"yaxis\":{\"automargin\":true,\"gridcolor\":\"white\",\"linecolor\":\"white\",\"ticks\":\"\",\"title\":{\"standoff\":15},\"zerolinecolor\":\"white\",\"zerolinewidth\":2}}},\"xaxis\":{\"anchor\":\"y\",\"domain\":[0.0,1.0],\"title\":{\"text\":\"Date\"}},\"yaxis\":{\"anchor\":\"x\",\"domain\":[0.0,1.0],\"title\":{\"text\":\"value\"}}},                        {\"responsive\": true}                    ).then(function(){\n",
       "                            \n",
       "var gd = document.getElementById('033ff893-f575-47e4-8e77-ce0eea1eda83');\n",
       "var x = new MutationObserver(function (mutations, observer) {{\n",
       "        var display = window.getComputedStyle(gd).display;\n",
       "        if (!display || display === 'none') {{\n",
       "            console.log([gd, 'removed!']);\n",
       "            Plotly.purge(gd);\n",
       "            observer.disconnect();\n",
       "        }}\n",
       "}});\n",
       "\n",
       "// Listen for the removal of the full notebook cells\n",
       "var notebookContainer = gd.closest('#notebook-container');\n",
       "if (notebookContainer) {{\n",
       "    x.observe(notebookContainer, {childList: true});\n",
       "}}\n",
       "\n",
       "// Listen for the clearing of the current output cell\n",
       "var outputEl = gd.closest('.output');\n",
       "if (outputEl) {{\n",
       "    x.observe(outputEl, {childList: true});\n",
       "}}\n",
       "\n",
       "                        })                };                });            </script>        </div>"
      ]
     },
     "metadata": {},
     "output_type": "display_data"
    }
   ],
   "source": [
    "Google_Stocks_DF = Google_Stocks.reset_index()\n",
    "px.line(Google_Stocks_DF, x='Date', y=['Open', 'Close', 'High', 'Low'], labels={'x': 'date', 'y':'Price'})"
   ]
  },
  {
   "cell_type": "code",
   "execution_count": null,
   "id": "49746e38",
   "metadata": {},
   "outputs": [],
   "source": []
  },
  {
   "cell_type": "code",
   "execution_count": 68,
   "id": "0f64fd43",
   "metadata": {},
   "outputs": [
    {
     "data": {
      "application/vnd.plotly.v1+json": {
       "config": {
        "plotlyServerURL": "https://plot.ly"
       },
       "data": [
        {
         "close": [
          2838.419921875,
          2869.300048828125,
          2868.1201171875,
          2904.1201171875,
          2887.469970703125,
          2829.27001953125,
          2780.340087890625
         ],
         "high": [
          2920.3798828125,
          2883.820068359375,
          2894.550048828125,
          2911.6298828125,
          2904,
          2884.989990234375,
          2787.25
         ],
         "low": [
          2834.830078125,
          2845.64990234375,
          2858.110107421875,
          2845.1201171875,
          2868.326904296875,
          2821.22998046875,
          2741.06005859375
         ],
         "open": [
          2908.8701171875,
          2864.02001953125,
          2883.219970703125,
          2875.179931640625,
          2902.419921875,
          2875.969970703125,
          2780.00390625
         ],
         "type": "candlestick",
         "x": [
          "2021-09-10T00:00:00",
          "2021-09-13T00:00:00",
          "2021-09-14T00:00:00",
          "2021-09-15T00:00:00",
          "2021-09-16T00:00:00",
          "2021-09-17T00:00:00",
          "2021-09-20T00:00:00"
         ]
        }
       ],
       "layout": {
        "autosize": true,
        "template": {
         "data": {
          "bar": [
           {
            "error_x": {
             "color": "#2a3f5f"
            },
            "error_y": {
             "color": "#2a3f5f"
            },
            "marker": {
             "line": {
              "color": "#E5ECF6",
              "width": 0.5
             },
             "pattern": {
              "fillmode": "overlay",
              "size": 10,
              "solidity": 0.2
             }
            },
            "type": "bar"
           }
          ],
          "barpolar": [
           {
            "marker": {
             "line": {
              "color": "#E5ECF6",
              "width": 0.5
             },
             "pattern": {
              "fillmode": "overlay",
              "size": 10,
              "solidity": 0.2
             }
            },
            "type": "barpolar"
           }
          ],
          "carpet": [
           {
            "aaxis": {
             "endlinecolor": "#2a3f5f",
             "gridcolor": "white",
             "linecolor": "white",
             "minorgridcolor": "white",
             "startlinecolor": "#2a3f5f"
            },
            "baxis": {
             "endlinecolor": "#2a3f5f",
             "gridcolor": "white",
             "linecolor": "white",
             "minorgridcolor": "white",
             "startlinecolor": "#2a3f5f"
            },
            "type": "carpet"
           }
          ],
          "choropleth": [
           {
            "colorbar": {
             "outlinewidth": 0,
             "ticks": ""
            },
            "type": "choropleth"
           }
          ],
          "contour": [
           {
            "colorbar": {
             "outlinewidth": 0,
             "ticks": ""
            },
            "colorscale": [
             [
              0,
              "#0d0887"
             ],
             [
              0.1111111111111111,
              "#46039f"
             ],
             [
              0.2222222222222222,
              "#7201a8"
             ],
             [
              0.3333333333333333,
              "#9c179e"
             ],
             [
              0.4444444444444444,
              "#bd3786"
             ],
             [
              0.5555555555555556,
              "#d8576b"
             ],
             [
              0.6666666666666666,
              "#ed7953"
             ],
             [
              0.7777777777777778,
              "#fb9f3a"
             ],
             [
              0.8888888888888888,
              "#fdca26"
             ],
             [
              1,
              "#f0f921"
             ]
            ],
            "type": "contour"
           }
          ],
          "contourcarpet": [
           {
            "colorbar": {
             "outlinewidth": 0,
             "ticks": ""
            },
            "type": "contourcarpet"
           }
          ],
          "heatmap": [
           {
            "colorbar": {
             "outlinewidth": 0,
             "ticks": ""
            },
            "colorscale": [
             [
              0,
              "#0d0887"
             ],
             [
              0.1111111111111111,
              "#46039f"
             ],
             [
              0.2222222222222222,
              "#7201a8"
             ],
             [
              0.3333333333333333,
              "#9c179e"
             ],
             [
              0.4444444444444444,
              "#bd3786"
             ],
             [
              0.5555555555555556,
              "#d8576b"
             ],
             [
              0.6666666666666666,
              "#ed7953"
             ],
             [
              0.7777777777777778,
              "#fb9f3a"
             ],
             [
              0.8888888888888888,
              "#fdca26"
             ],
             [
              1,
              "#f0f921"
             ]
            ],
            "type": "heatmap"
           }
          ],
          "heatmapgl": [
           {
            "colorbar": {
             "outlinewidth": 0,
             "ticks": ""
            },
            "colorscale": [
             [
              0,
              "#0d0887"
             ],
             [
              0.1111111111111111,
              "#46039f"
             ],
             [
              0.2222222222222222,
              "#7201a8"
             ],
             [
              0.3333333333333333,
              "#9c179e"
             ],
             [
              0.4444444444444444,
              "#bd3786"
             ],
             [
              0.5555555555555556,
              "#d8576b"
             ],
             [
              0.6666666666666666,
              "#ed7953"
             ],
             [
              0.7777777777777778,
              "#fb9f3a"
             ],
             [
              0.8888888888888888,
              "#fdca26"
             ],
             [
              1,
              "#f0f921"
             ]
            ],
            "type": "heatmapgl"
           }
          ],
          "histogram": [
           {
            "marker": {
             "pattern": {
              "fillmode": "overlay",
              "size": 10,
              "solidity": 0.2
             }
            },
            "type": "histogram"
           }
          ],
          "histogram2d": [
           {
            "colorbar": {
             "outlinewidth": 0,
             "ticks": ""
            },
            "colorscale": [
             [
              0,
              "#0d0887"
             ],
             [
              0.1111111111111111,
              "#46039f"
             ],
             [
              0.2222222222222222,
              "#7201a8"
             ],
             [
              0.3333333333333333,
              "#9c179e"
             ],
             [
              0.4444444444444444,
              "#bd3786"
             ],
             [
              0.5555555555555556,
              "#d8576b"
             ],
             [
              0.6666666666666666,
              "#ed7953"
             ],
             [
              0.7777777777777778,
              "#fb9f3a"
             ],
             [
              0.8888888888888888,
              "#fdca26"
             ],
             [
              1,
              "#f0f921"
             ]
            ],
            "type": "histogram2d"
           }
          ],
          "histogram2dcontour": [
           {
            "colorbar": {
             "outlinewidth": 0,
             "ticks": ""
            },
            "colorscale": [
             [
              0,
              "#0d0887"
             ],
             [
              0.1111111111111111,
              "#46039f"
             ],
             [
              0.2222222222222222,
              "#7201a8"
             ],
             [
              0.3333333333333333,
              "#9c179e"
             ],
             [
              0.4444444444444444,
              "#bd3786"
             ],
             [
              0.5555555555555556,
              "#d8576b"
             ],
             [
              0.6666666666666666,
              "#ed7953"
             ],
             [
              0.7777777777777778,
              "#fb9f3a"
             ],
             [
              0.8888888888888888,
              "#fdca26"
             ],
             [
              1,
              "#f0f921"
             ]
            ],
            "type": "histogram2dcontour"
           }
          ],
          "mesh3d": [
           {
            "colorbar": {
             "outlinewidth": 0,
             "ticks": ""
            },
            "type": "mesh3d"
           }
          ],
          "parcoords": [
           {
            "line": {
             "colorbar": {
              "outlinewidth": 0,
              "ticks": ""
             }
            },
            "type": "parcoords"
           }
          ],
          "pie": [
           {
            "automargin": true,
            "type": "pie"
           }
          ],
          "scatter": [
           {
            "marker": {
             "colorbar": {
              "outlinewidth": 0,
              "ticks": ""
             }
            },
            "type": "scatter"
           }
          ],
          "scatter3d": [
           {
            "line": {
             "colorbar": {
              "outlinewidth": 0,
              "ticks": ""
             }
            },
            "marker": {
             "colorbar": {
              "outlinewidth": 0,
              "ticks": ""
             }
            },
            "type": "scatter3d"
           }
          ],
          "scattercarpet": [
           {
            "marker": {
             "colorbar": {
              "outlinewidth": 0,
              "ticks": ""
             }
            },
            "type": "scattercarpet"
           }
          ],
          "scattergeo": [
           {
            "marker": {
             "colorbar": {
              "outlinewidth": 0,
              "ticks": ""
             }
            },
            "type": "scattergeo"
           }
          ],
          "scattergl": [
           {
            "marker": {
             "colorbar": {
              "outlinewidth": 0,
              "ticks": ""
             }
            },
            "type": "scattergl"
           }
          ],
          "scattermapbox": [
           {
            "marker": {
             "colorbar": {
              "outlinewidth": 0,
              "ticks": ""
             }
            },
            "type": "scattermapbox"
           }
          ],
          "scatterpolar": [
           {
            "marker": {
             "colorbar": {
              "outlinewidth": 0,
              "ticks": ""
             }
            },
            "type": "scatterpolar"
           }
          ],
          "scatterpolargl": [
           {
            "marker": {
             "colorbar": {
              "outlinewidth": 0,
              "ticks": ""
             }
            },
            "type": "scatterpolargl"
           }
          ],
          "scatterternary": [
           {
            "marker": {
             "colorbar": {
              "outlinewidth": 0,
              "ticks": ""
             }
            },
            "type": "scatterternary"
           }
          ],
          "surface": [
           {
            "colorbar": {
             "outlinewidth": 0,
             "ticks": ""
            },
            "colorscale": [
             [
              0,
              "#0d0887"
             ],
             [
              0.1111111111111111,
              "#46039f"
             ],
             [
              0.2222222222222222,
              "#7201a8"
             ],
             [
              0.3333333333333333,
              "#9c179e"
             ],
             [
              0.4444444444444444,
              "#bd3786"
             ],
             [
              0.5555555555555556,
              "#d8576b"
             ],
             [
              0.6666666666666666,
              "#ed7953"
             ],
             [
              0.7777777777777778,
              "#fb9f3a"
             ],
             [
              0.8888888888888888,
              "#fdca26"
             ],
             [
              1,
              "#f0f921"
             ]
            ],
            "type": "surface"
           }
          ],
          "table": [
           {
            "cells": {
             "fill": {
              "color": "#EBF0F8"
             },
             "line": {
              "color": "white"
             }
            },
            "header": {
             "fill": {
              "color": "#C8D4E3"
             },
             "line": {
              "color": "white"
             }
            },
            "type": "table"
           }
          ]
         },
         "layout": {
          "annotationdefaults": {
           "arrowcolor": "#2a3f5f",
           "arrowhead": 0,
           "arrowwidth": 1
          },
          "autotypenumbers": "strict",
          "coloraxis": {
           "colorbar": {
            "outlinewidth": 0,
            "ticks": ""
           }
          },
          "colorscale": {
           "diverging": [
            [
             0,
             "#8e0152"
            ],
            [
             0.1,
             "#c51b7d"
            ],
            [
             0.2,
             "#de77ae"
            ],
            [
             0.3,
             "#f1b6da"
            ],
            [
             0.4,
             "#fde0ef"
            ],
            [
             0.5,
             "#f7f7f7"
            ],
            [
             0.6,
             "#e6f5d0"
            ],
            [
             0.7,
             "#b8e186"
            ],
            [
             0.8,
             "#7fbc41"
            ],
            [
             0.9,
             "#4d9221"
            ],
            [
             1,
             "#276419"
            ]
           ],
           "sequential": [
            [
             0,
             "#0d0887"
            ],
            [
             0.1111111111111111,
             "#46039f"
            ],
            [
             0.2222222222222222,
             "#7201a8"
            ],
            [
             0.3333333333333333,
             "#9c179e"
            ],
            [
             0.4444444444444444,
             "#bd3786"
            ],
            [
             0.5555555555555556,
             "#d8576b"
            ],
            [
             0.6666666666666666,
             "#ed7953"
            ],
            [
             0.7777777777777778,
             "#fb9f3a"
            ],
            [
             0.8888888888888888,
             "#fdca26"
            ],
            [
             1,
             "#f0f921"
            ]
           ],
           "sequentialminus": [
            [
             0,
             "#0d0887"
            ],
            [
             0.1111111111111111,
             "#46039f"
            ],
            [
             0.2222222222222222,
             "#7201a8"
            ],
            [
             0.3333333333333333,
             "#9c179e"
            ],
            [
             0.4444444444444444,
             "#bd3786"
            ],
            [
             0.5555555555555556,
             "#d8576b"
            ],
            [
             0.6666666666666666,
             "#ed7953"
            ],
            [
             0.7777777777777778,
             "#fb9f3a"
            ],
            [
             0.8888888888888888,
             "#fdca26"
            ],
            [
             1,
             "#f0f921"
            ]
           ]
          },
          "colorway": [
           "#636efa",
           "#EF553B",
           "#00cc96",
           "#ab63fa",
           "#FFA15A",
           "#19d3f3",
           "#FF6692",
           "#B6E880",
           "#FF97FF",
           "#FECB52"
          ],
          "font": {
           "color": "#2a3f5f"
          },
          "geo": {
           "bgcolor": "white",
           "lakecolor": "white",
           "landcolor": "#E5ECF6",
           "showlakes": true,
           "showland": true,
           "subunitcolor": "white"
          },
          "hoverlabel": {
           "align": "left"
          },
          "hovermode": "closest",
          "mapbox": {
           "style": "light"
          },
          "paper_bgcolor": "white",
          "plot_bgcolor": "#E5ECF6",
          "polar": {
           "angularaxis": {
            "gridcolor": "white",
            "linecolor": "white",
            "ticks": ""
           },
           "bgcolor": "#E5ECF6",
           "radialaxis": {
            "gridcolor": "white",
            "linecolor": "white",
            "ticks": ""
           }
          },
          "scene": {
           "xaxis": {
            "backgroundcolor": "#E5ECF6",
            "gridcolor": "white",
            "gridwidth": 2,
            "linecolor": "white",
            "showbackground": true,
            "ticks": "",
            "zerolinecolor": "white"
           },
           "yaxis": {
            "backgroundcolor": "#E5ECF6",
            "gridcolor": "white",
            "gridwidth": 2,
            "linecolor": "white",
            "showbackground": true,
            "ticks": "",
            "zerolinecolor": "white"
           },
           "zaxis": {
            "backgroundcolor": "#E5ECF6",
            "gridcolor": "white",
            "gridwidth": 2,
            "linecolor": "white",
            "showbackground": true,
            "ticks": "",
            "zerolinecolor": "white"
           }
          },
          "shapedefaults": {
           "line": {
            "color": "#2a3f5f"
           }
          },
          "ternary": {
           "aaxis": {
            "gridcolor": "white",
            "linecolor": "white",
            "ticks": ""
           },
           "baxis": {
            "gridcolor": "white",
            "linecolor": "white",
            "ticks": ""
           },
           "bgcolor": "#E5ECF6",
           "caxis": {
            "gridcolor": "white",
            "linecolor": "white",
            "ticks": ""
           }
          },
          "title": {
           "x": 0.05
          },
          "xaxis": {
           "automargin": true,
           "gridcolor": "white",
           "linecolor": "white",
           "ticks": "",
           "title": {
            "standoff": 15
           },
           "zerolinecolor": "white",
           "zerolinewidth": 2
          },
          "yaxis": {
           "automargin": true,
           "gridcolor": "white",
           "linecolor": "white",
           "ticks": "",
           "title": {
            "standoff": 15
           },
           "zerolinecolor": "white",
           "zerolinewidth": 2
          }
         }
        },
        "xaxis": {
         "autorange": false,
         "range": [
          "2021-09-15 13:15:58.794",
          "2021-09-20 12:00"
         ],
         "rangeslider": {
          "autorange": true,
          "range": [
           "2021-09-09 12:00",
           "2021-09-20 12:00"
          ],
          "yaxis": {
           "_template": null,
           "rangemode": "match"
          }
         },
         "type": "date"
        },
        "yaxis": {
         "autorange": true,
         "range": [
          2731.097846137153,
          2930.342095269097
         ]
        }
       }
      },
      "image/png": "[encoded data removed]",
      "text/html": [
       "<div>                            <div id=\"7cc6f42d-e6d6-4759-84d1-6c3f91d800da\" class=\"plotly-graph-div\" style=\"height:525px; width:100%;\"></div>            <script type=\"text/javascript\">                require([\"plotly\"], function(Plotly) {                    window.PLOTLYENV=window.PLOTLYENV || {};                                    if (document.getElementById(\"7cc6f42d-e6d6-4759-84d1-6c3f91d800da\")) {                    Plotly.newPlot(                        \"7cc6f42d-e6d6-4759-84d1-6c3f91d800da\",                        [{\"close\":[2838.419921875,2869.300048828125,2868.1201171875,2904.1201171875,2887.469970703125,2829.27001953125,2780.340087890625],\"high\":[2920.3798828125,2883.820068359375,2894.550048828125,2911.6298828125,2904.0,2884.989990234375,2787.25],\"low\":[2834.830078125,2845.64990234375,2858.110107421875,2845.1201171875,2868.326904296875,2821.22998046875,2741.06005859375],\"open\":[2908.8701171875,2864.02001953125,2883.219970703125,2875.179931640625,2902.419921875,2875.969970703125,2780.00390625],\"type\":\"candlestick\",\"x\":[\"2021-09-10T00:00:00\",\"2021-09-13T00:00:00\",\"2021-09-14T00:00:00\",\"2021-09-15T00:00:00\",\"2021-09-16T00:00:00\",\"2021-09-17T00:00:00\",\"2021-09-20T00:00:00\"]}],                        {\"template\":{\"data\":{\"bar\":[{\"error_x\":{\"color\":\"#2a3f5f\"},\"error_y\":{\"color\":\"#2a3f5f\"},\"marker\":{\"line\":{\"color\":\"#E5ECF6\",\"width\":0.5},\"pattern\":{\"fillmode\":\"overlay\",\"size\":10,\"solidity\":0.2}},\"type\":\"bar\"}],\"barpolar\":[{\"marker\":{\"line\":{\"color\":\"#E5ECF6\",\"width\":0.5},\"pattern\":{\"fillmode\":\"overlay\",\"size\":10,\"solidity\":0.2}},\"type\":\"barpolar\"}],\"carpet\":[{\"aaxis\":{\"endlinecolor\":\"#2a3f5f\",\"gridcolor\":\"white\",\"linecolor\":\"white\",\"minorgridcolor\":\"white\",\"startlinecolor\":\"#2a3f5f\"},\"baxis\":{\"endlinecolor\":\"#2a3f5f\",\"gridcolor\":\"white\",\"linecolor\":\"white\",\"minorgridcolor\":\"white\",\"startlinecolor\":\"#2a3f5f\"},\"type\":\"carpet\"}],\"choropleth\":[{\"colorbar\":{\"outlinewidth\":0,\"ticks\":\"\"},\"type\":\"choropleth\"}],\"contour\":[{\"colorbar\":{\"outlinewidth\":0,\"ticks\":\"\"},\"colorscale\":[[0.0,\"#0d0887\"],[0.1111111111111111,\"#46039f\"],[0.2222222222222222,\"#7201a8\"],[0.3333333333333333,\"#9c179e\"],[0.4444444444444444,\"#bd3786\"],[0.5555555555555556,\"#d8576b\"],[0.6666666666666666,\"#ed7953\"],[0.7777777777777778,\"#fb9f3a\"],[0.8888888888888888,\"#fdca26\"],[1.0,\"#f0f921\"]],\"type\":\"contour\"}],\"contourcarpet\":[{\"colorbar\":{\"outlinewidth\":0,\"ticks\":\"\"},\"type\":\"contourcarpet\"}],\"heatmap\":[{\"colorbar\":{\"outlinewidth\":0,\"ticks\":\"\"},\"colorscale\":[[0.0,\"#0d0887\"],[0.1111111111111111,\"#46039f\"],[0.2222222222222222,\"#7201a8\"],[0.3333333333333333,\"#9c179e\"],[0.4444444444444444,\"#bd3786\"],[0.5555555555555556,\"#d8576b\"],[0.6666666666666666,\"#ed7953\"],[0.7777777777777778,\"#fb9f3a\"],[0.8888888888888888,\"#fdca26\"],[1.0,\"#f0f921\"]],\"type\":\"heatmap\"}],\"heatmapgl\":[{\"colorbar\":{\"outlinewidth\":0,\"ticks\":\"\"},\"colorscale\":[[0.0,\"#0d0887\"],[0.1111111111111111,\"#46039f\"],[0.2222222222222222,\"#7201a8\"],[0.3333333333333333,\"#9c179e\"],[0.4444444444444444,\"#bd3786\"],[0.5555555555555556,\"#d8576b\"],[0.6666666666666666,\"#ed7953\"],[0.7777777777777778,\"#fb9f3a\"],[0.8888888888888888,\"#fdca26\"],[1.0,\"#f0f921\"]],\"type\":\"heatmapgl\"}],\"histogram\":[{\"marker\":{\"pattern\":{\"fillmode\":\"overlay\",\"size\":10,\"solidity\":0.2}},\"type\":\"histogram\"}],\"histogram2d\":[{\"colorbar\":{\"outlinewidth\":0,\"ticks\":\"\"},\"colorscale\":[[0.0,\"#0d0887\"],[0.1111111111111111,\"#46039f\"],[0.2222222222222222,\"#7201a8\"],[0.3333333333333333,\"#9c179e\"],[0.4444444444444444,\"#bd3786\"],[0.5555555555555556,\"#d8576b\"],[0.6666666666666666,\"#ed7953\"],[0.7777777777777778,\"#fb9f3a\"],[0.8888888888888888,\"#fdca26\"],[1.0,\"#f0f921\"]],\"type\":\"histogram2d\"}],\"histogram2dcontour\":[{\"colorbar\":{\"outlinewidth\":0,\"ticks\":\"\"},\"colorscale\":[[0.0,\"#0d0887\"],[0.1111111111111111,\"#46039f\"],[0.2222222222222222,\"#7201a8\"],[0.3333333333333333,\"#9c179e\"],[0.4444444444444444,\"#bd3786\"],[0.5555555555555556,\"#d8576b\"],[0.6666666666666666,\"#ed7953\"],[0.7777777777777778,\"#fb9f3a\"],[0.8888888888888888,\"#fdca26\"],[1.0,\"#f0f921\"]],\"type\":\"histogram2dcontour\"}],\"mesh3d\":[{\"colorbar\":{\"outlinewidth\":0,\"ticks\":\"\"},\"type\":\"mesh3d\"}],\"parcoords\":[{\"line\":{\"colorbar\":{\"outlinewidth\":0,\"ticks\":\"\"}},\"type\":\"parcoords\"}],\"pie\":[{\"automargin\":true,\"type\":\"pie\"}],\"scatter\":[{\"marker\":{\"colorbar\":{\"outlinewidth\":0,\"ticks\":\"\"}},\"type\":\"scatter\"}],\"scatter3d\":[{\"line\":{\"colorbar\":{\"outlinewidth\":0,\"ticks\":\"\"}},\"marker\":{\"colorbar\":{\"outlinewidth\":0,\"ticks\":\"\"}},\"type\":\"scatter3d\"}],\"scattercarpet\":[{\"marker\":{\"colorbar\":{\"outlinewidth\":0,\"ticks\":\"\"}},\"type\":\"scattercarpet\"}],\"scattergeo\":[{\"marker\":{\"colorbar\":{\"outlinewidth\":0,\"ticks\":\"\"}},\"type\":\"scattergeo\"}],\"scattergl\":[{\"marker\":{\"colorbar\":{\"outlinewidth\":0,\"ticks\":\"\"}},\"type\":\"scattergl\"}],\"scattermapbox\":[{\"marker\":{\"colorbar\":{\"outlinewidth\":0,\"ticks\":\"\"}},\"type\":\"scattermapbox\"}],\"scatterpolar\":[{\"marker\":{\"colorbar\":{\"outlinewidth\":0,\"ticks\":\"\"}},\"type\":\"scatterpolar\"}],\"scatterpolargl\":[{\"marker\":{\"colorbar\":{\"outlinewidth\":0,\"ticks\":\"\"}},\"type\":\"scatterpolargl\"}],\"scatterternary\":[{\"marker\":{\"colorbar\":{\"outlinewidth\":0,\"ticks\":\"\"}},\"type\":\"scatterternary\"}],\"surface\":[{\"colorbar\":{\"outlinewidth\":0,\"ticks\":\"\"},\"colorscale\":[[0.0,\"#0d0887\"],[0.1111111111111111,\"#46039f\"],[0.2222222222222222,\"#7201a8\"],[0.3333333333333333,\"#9c179e\"],[0.4444444444444444,\"#bd3786\"],[0.5555555555555556,\"#d8576b\"],[0.6666666666666666,\"#ed7953\"],[0.7777777777777778,\"#fb9f3a\"],[0.8888888888888888,\"#fdca26\"],[1.0,\"#f0f921\"]],\"type\":\"surface\"}],\"table\":[{\"cells\":{\"fill\":{\"color\":\"#EBF0F8\"},\"line\":{\"color\":\"white\"}},\"header\":{\"fill\":{\"color\":\"#C8D4E3\"},\"line\":{\"color\":\"white\"}},\"type\":\"table\"}]},\"layout\":{\"annotationdefaults\":{\"arrowcolor\":\"#2a3f5f\",\"arrowhead\":0,\"arrowwidth\":1},\"autotypenumbers\":\"strict\",\"coloraxis\":{\"colorbar\":{\"outlinewidth\":0,\"ticks\":\"\"}},\"colorscale\":{\"diverging\":[[0,\"#8e0152\"],[0.1,\"#c51b7d\"],[0.2,\"#de77ae\"],[0.3,\"#f1b6da\"],[0.4,\"#fde0ef\"],[0.5,\"#f7f7f7\"],[0.6,\"#e6f5d0\"],[0.7,\"#b8e186\"],[0.8,\"#7fbc41\"],[0.9,\"#4d9221\"],[1,\"#276419\"]],\"sequential\":[[0.0,\"#0d0887\"],[0.1111111111111111,\"#46039f\"],[0.2222222222222222,\"#7201a8\"],[0.3333333333333333,\"#9c179e\"],[0.4444444444444444,\"#bd3786\"],[0.5555555555555556,\"#d8576b\"],[0.6666666666666666,\"#ed7953\"],[0.7777777777777778,\"#fb9f3a\"],[0.8888888888888888,\"#fdca26\"],[1.0,\"#f0f921\"]],\"sequentialminus\":[[0.0,\"#0d0887\"],[0.1111111111111111,\"#46039f\"],[0.2222222222222222,\"#7201a8\"],[0.3333333333333333,\"#9c179e\"],[0.4444444444444444,\"#bd3786\"],[0.5555555555555556,\"#d8576b\"],[0.6666666666666666,\"#ed7953\"],[0.7777777777777778,\"#fb9f3a\"],[0.8888888888888888,\"#fdca26\"],[1.0,\"#f0f921\"]]},\"colorway\":[\"#636efa\",\"#EF553B\",\"#00cc96\",\"#ab63fa\",\"#FFA15A\",\"#19d3f3\",\"#FF6692\",\"#B6E880\",\"#FF97FF\",\"#FECB52\"],\"font\":{\"color\":\"#2a3f5f\"},\"geo\":{\"bgcolor\":\"white\",\"lakecolor\":\"white\",\"landcolor\":\"#E5ECF6\",\"showlakes\":true,\"showland\":true,\"subunitcolor\":\"white\"},\"hoverlabel\":{\"align\":\"left\"},\"hovermode\":\"closest\",\"mapbox\":{\"style\":\"light\"},\"paper_bgcolor\":\"white\",\"plot_bgcolor\":\"#E5ECF6\",\"polar\":{\"angularaxis\":{\"gridcolor\":\"white\",\"linecolor\":\"white\",\"ticks\":\"\"},\"bgcolor\":\"#E5ECF6\",\"radialaxis\":{\"gridcolor\":\"white\",\"linecolor\":\"white\",\"ticks\":\"\"}},\"scene\":{\"xaxis\":{\"backgroundcolor\":\"#E5ECF6\",\"gridcolor\":\"white\",\"gridwidth\":2,\"linecolor\":\"white\",\"showbackground\":true,\"ticks\":\"\",\"zerolinecolor\":\"white\"},\"yaxis\":{\"backgroundcolor\":\"#E5ECF6\",\"gridcolor\":\"white\",\"gridwidth\":2,\"linecolor\":\"white\",\"showbackground\":true,\"ticks\":\"\",\"zerolinecolor\":\"white\"},\"zaxis\":{\"backgroundcolor\":\"#E5ECF6\",\"gridcolor\":\"white\",\"gridwidth\":2,\"linecolor\":\"white\",\"showbackground\":true,\"ticks\":\"\",\"zerolinecolor\":\"white\"}},\"shapedefaults\":{\"line\":{\"color\":\"#2a3f5f\"}},\"ternary\":{\"aaxis\":{\"gridcolor\":\"white\",\"linecolor\":\"white\",\"ticks\":\"\"},\"baxis\":{\"gridcolor\":\"white\",\"linecolor\":\"white\",\"ticks\":\"\"},\"bgcolor\":\"#E5ECF6\",\"caxis\":{\"gridcolor\":\"white\",\"linecolor\":\"white\",\"ticks\":\"\"}},\"title\":{\"x\":0.05},\"xaxis\":{\"automargin\":true,\"gridcolor\":\"white\",\"linecolor\":\"white\",\"ticks\":\"\",\"title\":{\"standoff\":15},\"zerolinecolor\":\"white\",\"zerolinewidth\":2},\"yaxis\":{\"automargin\":true,\"gridcolor\":\"white\",\"linecolor\":\"white\",\"ticks\":\"\",\"title\":{\"standoff\":15},\"zerolinecolor\":\"white\",\"zerolinewidth\":2}}}},                        {\"responsive\": true}                    ).then(function(){\n",
       "                            \n",
       "var gd = document.getElementById('7cc6f42d-e6d6-4759-84d1-6c3f91d800da');\n",
       "var x = new MutationObserver(function (mutations, observer) {{\n",
       "        var display = window.getComputedStyle(gd).display;\n",
       "        if (!display || display === 'none') {{\n",
       "            console.log([gd, 'removed!']);\n",
       "            Plotly.purge(gd);\n",
       "            observer.disconnect();\n",
       "        }}\n",
       "}});\n",
       "\n",
       "// Listen for the removal of the full notebook cells\n",
       "var notebookContainer = gd.closest('#notebook-container');\n",
       "if (notebookContainer) {{\n",
       "    x.observe(notebookContainer, {childList: true});\n",
       "}}\n",
       "\n",
       "// Listen for the clearing of the current output cell\n",
       "var outputEl = gd.closest('.output');\n",
       "if (outputEl) {{\n",
       "    x.observe(outputEl, {childList: true});\n",
       "}}\n",
       "\n",
       "                        })                };                });            </script>        </div>"
      ]
     },
     "metadata": {},
     "output_type": "display_data"
    }
   ],
   "source": [
    "from datetime import datetime\n",
    "fig = go.Figure(\n",
    "    data=[\n",
    "        go.Candlestick(x=Google_Stocks_DF['Date'],\n",
    "                open=Google_Stocks_DF['Open'],\n",
    "                high=Google_Stocks_DF['High'],\n",
    "                low=Google_Stocks_DF['Low'],\n",
    "                close=Google_Stocks_DF['Close'])\n",
    "    ]\n",
    ")\n",
    "fig.show()"
   ]
  },
  {
   "cell_type": "code",
   "execution_count": 58,
   "id": "a6ebd1e3",
   "metadata": {},
   "outputs": [
    {
     "name": "stdout",
     "output_type": "stream",
     "text": [
      "                   High          Low         Open        Close  Volume  \\\n",
      "Date                                                                     \n",
      "2021-07-12  2615.399902  2592.000000  2596.669922  2611.280029  847200   \n",
      "2021-07-13  2640.840088  2612.739990  2617.629883  2619.889893  830900   \n",
      "2021-07-14  2659.919922  2637.959961  2638.030029  2641.649902  895600   \n",
      "2021-07-15  2651.899902  2611.959961  2650.000000  2625.330078  829300   \n",
      "2021-07-16  2643.659912  2616.429932  2632.820068  2636.909912  742800   \n",
      "\n",
      "              Adj Close  \n",
      "Date                     \n",
      "2021-07-12  2611.280029  \n",
      "2021-07-13  2619.889893  \n",
      "2021-07-14  2641.649902  \n",
      "2021-07-15  2625.330078  \n",
      "2021-07-16  2636.909912  \n"
     ]
    }
   ],
   "source": [
    "ticker = \"GOOG\"\n",
    "start = dt.datetime(2021, 7, 12)\n",
    "end = dt.datetime(2021, 8, 21)\n",
    "\n",
    "data = pdr.get_data_yahoo(ticker, start, end)\n",
    "\n",
    "print(data.head())"
   ]
  },
  {
   "cell_type": "code",
   "execution_count": 59,
   "id": "74983a23",
   "metadata": {},
   "outputs": [],
   "source": [
    "data['Log returns'] = np.log(data['Close']/data['Close'].shift())"
   ]
  },
  {
   "cell_type": "code",
   "execution_count": 60,
   "id": "1c51503d",
   "metadata": {},
   "outputs": [
    {
     "data": {
      "text/plain": [
       "0.010436176414794525"
      ]
     },
     "execution_count": 60,
     "metadata": {},
     "output_type": "execute_result"
    }
   ],
   "source": [
    "data['Log returns'].std()"
   ]
  },
  {
   "cell_type": "code",
   "execution_count": 61,
   "id": "f0ade7a3",
   "metadata": {},
   "outputs": [],
   "source": [
    "volatility = data['Log returns'].std()*252**.5"
   ]
  },
  {
   "cell_type": "code",
   "execution_count": 62,
   "id": "c0efc330",
   "metadata": {},
   "outputs": [
    {
     "data": {
      "text/plain": [
       "Text(0.5, 1.0, 'GOOG volatility: 16.57%')"
      ]
     },
     "execution_count": 62,
     "metadata": {},
     "output_type": "execute_result"
    },
    {
     "data": {
      "image/png": "[encoded data removed]",
      "text/plain": [
       "<Figure size 432x288 with 1 Axes>"
      ]
     },
     "metadata": {
      "needs_background": "light"
     },
     "output_type": "display_data"
    }
   ],
   "source": [
    "str_vol = str(round(volatility, 4)*100)\n",
    "\n",
    "fig, ax = plt.subplots()\n",
    "data['Log returns'].hist(ax=ax, bins=5, alpha=0.6, color='b')\n",
    "ax.set_xlabel('Log return')\n",
    "ax.set_ylabel('Freq of Log return')\n",
    "ax.set_title('GOOG volatility: ' + str_vol + \"%\")"
   ]
  }
 ],
 "metadata": {
  "kernelspec": {
   "display_name": "Python 3 (ipykernel)",
   "language": "python",
   "name": "python3"
  },
  "language_info": {
   "codemirror_mode": {
    "name": "ipython",
    "version": 3
   },
   "file_extension": ".py",
   "mimetype": "text/x-python",
   "name": "python",
   "nbconvert_exporter": "python",
   "pygments_lexer": "ipython3",
   "version": "3.8.8"
  }
 },
 "nbformat": 4,
 "nbformat_minor": 5
}
